{
 "cells": [
  {
   "cell_type": "code",
   "execution_count": 1,
   "metadata": {},
   "outputs": [],
   "source": [
    "from pymongo import MongoClient"
   ]
  },
  {
   "cell_type": "code",
   "execution_count": 2,
   "metadata": {},
   "outputs": [],
   "source": [
    "def connectCollection(database, collection):\n",
    "    client = MongoClient()\n",
    "    db = client[database]\n",
    "    coll = db[collection]\n",
    "    return db, coll"
   ]
  },
  {
   "cell_type": "code",
   "execution_count": 3,
   "metadata": {},
   "outputs": [],
   "source": [
    "db, coll = connectCollection('companies','companies')"
   ]
  },
  {
   "cell_type": "code",
   "execution_count": 132,
   "metadata": {},
   "outputs": [],
   "source": [
    "companies = list(coll.find({'offices.city': 'San Jose','founded_year': {'$lt': 2008},\"offices.latitude\":{'$ne': None},\"offices.longitude\":{'$ne':None}}))"
   ]
  },
  {
   "cell_type": "code",
   "execution_count": 133,
   "metadata": {},
   "outputs": [
    {
     "name": "stdout",
     "output_type": "stream",
     "text": [
      "89\n"
     ]
    }
   ],
   "source": [
    "print(len(companies))"
   ]
  },
  {
   "cell_type": "code",
   "execution_count": 134,
   "metadata": {},
   "outputs": [
    {
     "name": "stdout",
     "output_type": "stream",
     "text": [
      "37.295005 -121.930035\n"
     ]
    }
   ],
   "source": [
    "print(companies[0]['offices'][0]['latitude'],companies[0]['offices'][0]['longitude'])"
   ]
  },
  {
   "cell_type": "code",
   "execution_count": 135,
   "metadata": {},
   "outputs": [
    {
     "data": {
      "text/plain": [
       "{'address1',\n",
       " 'address2',\n",
       " 'city',\n",
       " 'country_code',\n",
       " 'description',\n",
       " 'latitude',\n",
       " 'longitude',\n",
       " 'state_code',\n",
       " 'zip_code'}"
      ]
     },
     "execution_count": 135,
     "metadata": {},
     "output_type": "execute_result"
    }
   ],
   "source": [
    "set(companies[0]['offices'][0])"
   ]
  },
  {
   "cell_type": "code",
   "execution_count": 147,
   "metadata": {},
   "outputs": [
    {
     "data": {
      "text/plain": [
       "89"
      ]
     },
     "execution_count": 147,
     "metadata": {},
     "output_type": "execute_result"
    }
   ],
   "source": [
    "counter = 0\n",
    "for company in companies:\n",
    "    latitude = company['offices'][0]['latitude']\n",
    "    longitude = company['offices'][0]['longitude']\n",
    "    counter += 1\n",
    "counter"
   ]
  },
  {
   "cell_type": "code",
   "execution_count": 149,
   "metadata": {},
   "outputs": [],
   "source": [
    "def getLocation(company):\n",
    "    latitude = company['offices'][0]['latitude']\n",
    "    longitude = company['offices'][0]['longitude']\n",
    "    loc = {\n",
    "        'type':'Point',\n",
    "        'coordinates':[float(latitude),float(longitude)]\n",
    "    }\n",
    "    return loc"
   ]
  },
  {
   "cell_type": "code",
   "execution_count": 150,
   "metadata": {},
   "outputs": [
    {
     "data": {
      "text/plain": [
       "{'type': 'Point', 'coordinates': [37.295005, -121.930035]}"
      ]
     },
     "execution_count": 150,
     "metadata": {},
     "output_type": "execute_result"
    }
   ],
   "source": [
    "getLocation(companies[0])"
   ]
  },
  {
   "cell_type": "code",
   "execution_count": 151,
   "metadata": {},
   "outputs": [
    {
     "name": "stdout",
     "output_type": "stream",
     "text": [
      "{'type': 'Point', 'coordinates': [37.295005, -121.930035]}\n",
      "{'type': 'Point', 'coordinates': [37.408802, -121.95377]}\n",
      "{'type': 'Point', 'coordinates': [37.321798, -121.979453]}\n",
      "{'type': 'Point', 'coordinates': [37.320052, -121.877636]}\n",
      "{'type': 'Point', 'coordinates': [37.294465, -121.927696]}\n",
      "{'type': 'Point', 'coordinates': [37.32052, -121.948399]}\n",
      "{'type': 'Point', 'coordinates': [37.332271, -122.006539]}\n",
      "{'type': 'Point', 'coordinates': [37.09024, -95.712891]}\n",
      "{'type': 'Point', 'coordinates': [37.410651, -121.939993]}\n",
      "{'type': 'Point', 'coordinates': [37.4050988, -121.9477639]}\n",
      "{'type': 'Point', 'coordinates': [37.264749, -121.789862]}\n",
      "{'type': 'Point', 'coordinates': [37.244187, -121.9053]}\n",
      "{'type': 'Point', 'coordinates': [37.395923, -121.92902]}\n",
      "{'type': 'Point', 'coordinates': [37.332828, -121.884399]}\n",
      "{'type': 'Point', 'coordinates': [37.308591, -122.031476]}\n",
      "{'type': 'Point', 'coordinates': [37.321798, -121.979453]}\n",
      "{'type': 'Point', 'coordinates': [37.381034, -121.971487]}\n",
      "{'type': 'Point', 'coordinates': [37.3973787, -122.0879281]}\n",
      "{'type': 'Point', 'coordinates': [37.367293, -121.915949]}\n",
      "{'type': 'Point', 'coordinates': [37.337756, -121.89435]}\n",
      "{'type': 'Point', 'coordinates': [37.421731, -121.957018]}\n",
      "{'type': 'Point', 'coordinates': [37.316466, -121.873881]}\n",
      "{'type': 'Point', 'coordinates': [37.419041, -122.087471]}\n",
      "{'type': 'Point', 'coordinates': [37.316466, -121.873881]}\n",
      "{'type': 'Point', 'coordinates': [37.316466, -121.873881]}\n",
      "{'type': 'Point', 'coordinates': [37.332948, -121.89053]}\n",
      "{'type': 'Point', 'coordinates': [37.371056, -121.920558]}\n",
      "{'type': 'Point', 'coordinates': [37.324803, -121.771853]}\n",
      "{'type': 'Point', 'coordinates': [37.285978, -121.860571]}\n",
      "{'type': 'Point', 'coordinates': [37.421729, -121.957018]}\n",
      "{'type': 'Point', 'coordinates': [37.3706126, -121.9219538]}\n",
      "{'type': 'Point', 'coordinates': [37.7924253, -122.4010019]}\n",
      "{'type': 'Point', 'coordinates': [37.299332, -122.031435]}\n",
      "{'type': 'Point', 'coordinates': [37.3706126, -121.9219538]}\n",
      "{'type': 'Point', 'coordinates': [37.7924253, -122.4010019]}\n",
      "{'type': 'Point', 'coordinates': [37.299332, -122.031435]}\n",
      "{'type': 'Point', 'coordinates': [37.4155698, -121.9486567]}\n",
      "{'type': 'Point', 'coordinates': [47.622263, -122.363276]}\n",
      "{'type': 'Point', 'coordinates': [37.383526, -122.012808]}\n",
      "{'type': 'Point', 'coordinates': [37.3987372, -122.0497918]}\n",
      "{'type': 'Point', 'coordinates': [37.2318159, -121.7822278]}\n",
      "{'type': 'Point', 'coordinates': [37.320052, -121.877636]}\n",
      "{'type': 'Point', 'coordinates': [37.391198, -121.93393]}\n",
      "{'type': 'Point', 'coordinates': [37.317799, -121.947497]}\n",
      "{'type': 'Point', 'coordinates': [30.2456728, -97.7688358]}\n",
      "{'type': 'Point', 'coordinates': [37.3968262, -121.8957166]}\n",
      "{'type': 'Point', 'coordinates': [42.3505124, -71.0757952]}\n",
      "{'type': 'Point', 'coordinates': [37.337756, -121.89435]}\n",
      "{'type': 'Point', 'coordinates': [37.320796, -121.828041]}\n",
      "{'type': 'Point', 'coordinates': [37.328686, -121.89426]}\n",
      "{'type': 'Point', 'coordinates': [37.396586, -121.928619]}\n",
      "{'type': 'Point', 'coordinates': [37.32136, -122.014616]}\n",
      "{'type': 'Point', 'coordinates': [37.3938424, -121.9318273]}\n",
      "{'type': 'Point', 'coordinates': [37.414105, -121.940895]}\n",
      "{'type': 'Point', 'coordinates': [37.41668, -121.949456]}\n",
      "{'type': 'Point', 'coordinates': [37.261986, -121.784279]}\n",
      "{'type': 'Point', 'coordinates': [37.367838, -121.915594]}\n",
      "{'type': 'Point', 'coordinates': [37.3969138, -121.8939054]}\n",
      "{'type': 'Point', 'coordinates': [37.409064, -121.943149]}\n",
      "{'type': 'Point', 'coordinates': [37.3108702, -121.950142]}\n",
      "{'type': 'Point', 'coordinates': [37.3058458, -121.755045]}\n",
      "{'type': 'Point', 'coordinates': [38.883297, -77.116897]}\n",
      "{'type': 'Point', 'coordinates': [37.291065, -121.93418]}\n",
      "{'type': 'Point', 'coordinates': [37.2471229, -121.8277925]}\n",
      "{'type': 'Point', 'coordinates': [37.335003, -121.890153]}\n",
      "{'type': 'Point', 'coordinates': [37.3345106, -121.8913471]}\n",
      "{'type': 'Point', 'coordinates': [49.4855019, 11.1234719]}\n",
      "{'type': 'Point', 'coordinates': [37.396586, -121.928619]}\n",
      "{'type': 'Point', 'coordinates': [37.337402, -121.894099]}\n",
      "{'type': 'Point', 'coordinates': [37.323162, -121.9638365]}\n",
      "{'type': 'Point', 'coordinates': [37.320052, -121.877636]}\n",
      "{'type': 'Point', 'coordinates': [37.4000693, -121.9369827]}\n",
      "{'type': 'Point', 'coordinates': [37.2890158, -121.7809943]}\n",
      "{'type': 'Point', 'coordinates': [37.383175, -121.915418]}\n",
      "{'type': 'Point', 'coordinates': [37.317847, -121.948469]}\n",
      "{'type': 'Point', 'coordinates': [37.3900244, -121.9342903]}\n",
      "{'type': 'Point', 'coordinates': [37.3825306, -121.9198306]}\n",
      "{'type': 'Point', 'coordinates': [37.3949016, -121.9293948]}\n",
      "{'type': 'Point', 'coordinates': [37.3961981, -121.9301666]}\n",
      "{'type': 'Point', 'coordinates': [37.25656, -121.788353]}\n",
      "{'type': 'Point', 'coordinates': [59.3326694, 18.0523253]}\n",
      "{'type': 'Point', 'coordinates': [37.253463, -121.782906]}\n",
      "{'type': 'Point', 'coordinates': [37.337756, -121.89435]}\n",
      "{'type': 'Point', 'coordinates': [37.37027, -121.924053]}\n",
      "{'type': 'Point', 'coordinates': [37.418636, -121.944828]}\n",
      "{'type': 'Point', 'coordinates': [37.402895, -121.905426]}\n",
      "{'type': 'Point', 'coordinates': [37.420681, -121.951556]}\n",
      "{'type': 'Point', 'coordinates': [37.248043, -121.776935]}\n",
      "{'type': 'Point', 'coordinates': [37.386417, -121.92917]}\n"
     ]
    }
   ],
   "source": [
    "for e in companies:\n",
    "    print(getLocation(e))"
   ]
  },
  {
   "cell_type": "code",
   "execution_count": 152,
   "metadata": {},
   "outputs": [],
   "source": [
    "for company in companies:\n",
    "    value = {\"$set\": {'location':getLocation(company)}}\n",
    "    coll.update_one(company,value)"
   ]
  },
  {
   "cell_type": "code",
   "execution_count": 165,
   "metadata": {},
   "outputs": [
    {
     "data": {
      "text/plain": [
       "{'type': 'Point', 'coordinates': [37.295005, -121.930035]}"
      ]
     },
     "execution_count": 165,
     "metadata": {},
     "output_type": "execute_result"
    }
   ],
   "source": [
    "companies[0]['location']"
   ]
  },
  {
   "cell_type": "code",
   "execution_count": 155,
   "metadata": {},
   "outputs": [],
   "source": [
    "import folium"
   ]
  },
  {
   "cell_type": "code",
   "execution_count": 162,
   "metadata": {},
   "outputs": [],
   "source": [
    "map_city=folium.Map(location=[37.3382,-121.8863], zoom_start=12)"
   ]
  },
  {
   "cell_type": "code",
   "execution_count": 166,
   "metadata": {
    "scrolled": true
   },
   "outputs": [
    {
     "data": {
      "text/html": [
       "<div style=\"width:100%;\"><div style=\"position:relative;width:100%;height:0;padding-bottom:60%;\"><iframe src=\"data:text/html;charset=utf-8;base64,PCFET0NUWVBFIGh0bWw+CjxoZWFkPiAgICAKICAgIDxtZXRhIGh0dHAtZXF1aXY9ImNvbnRlbnQtdHlwZSIgY29udGVudD0idGV4dC9odG1sOyBjaGFyc2V0PVVURi04IiAvPgogICAgCiAgICAgICAgPHNjcmlwdD4KICAgICAgICAgICAgTF9OT19UT1VDSCA9IGZhbHNlOwogICAgICAgICAgICBMX0RJU0FCTEVfM0QgPSBmYWxzZTsKICAgICAgICA8L3NjcmlwdD4KICAgIAogICAgPHNjcmlwdCBzcmM9Imh0dHBzOi8vY2RuLmpzZGVsaXZyLm5ldC9ucG0vbGVhZmxldEAxLjUuMS9kaXN0L2xlYWZsZXQuanMiPjwvc2NyaXB0PgogICAgPHNjcmlwdCBzcmM9Imh0dHBzOi8vY29kZS5qcXVlcnkuY29tL2pxdWVyeS0xLjEyLjQubWluLmpzIj48L3NjcmlwdD4KICAgIDxzY3JpcHQgc3JjPSJodHRwczovL21heGNkbi5ib290c3RyYXBjZG4uY29tL2Jvb3RzdHJhcC8zLjIuMC9qcy9ib290c3RyYXAubWluLmpzIj48L3NjcmlwdD4KICAgIDxzY3JpcHQgc3JjPSJodHRwczovL2NkbmpzLmNsb3VkZmxhcmUuY29tL2FqYXgvbGlicy9MZWFmbGV0LmF3ZXNvbWUtbWFya2Vycy8yLjAuMi9sZWFmbGV0LmF3ZXNvbWUtbWFya2Vycy5qcyI+PC9zY3JpcHQ+CiAgICA8bGluayByZWw9InN0eWxlc2hlZXQiIGhyZWY9Imh0dHBzOi8vY2RuLmpzZGVsaXZyLm5ldC9ucG0vbGVhZmxldEAxLjUuMS9kaXN0L2xlYWZsZXQuY3NzIi8+CiAgICA8bGluayByZWw9InN0eWxlc2hlZXQiIGhyZWY9Imh0dHBzOi8vbWF4Y2RuLmJvb3RzdHJhcGNkbi5jb20vYm9vdHN0cmFwLzMuMi4wL2Nzcy9ib290c3RyYXAubWluLmNzcyIvPgogICAgPGxpbmsgcmVsPSJzdHlsZXNoZWV0IiBocmVmPSJodHRwczovL21heGNkbi5ib290c3RyYXBjZG4uY29tL2Jvb3RzdHJhcC8zLjIuMC9jc3MvYm9vdHN0cmFwLXRoZW1lLm1pbi5jc3MiLz4KICAgIDxsaW5rIHJlbD0ic3R5bGVzaGVldCIgaHJlZj0iaHR0cHM6Ly9tYXhjZG4uYm9vdHN0cmFwY2RuLmNvbS9mb250LWF3ZXNvbWUvNC42LjMvY3NzL2ZvbnQtYXdlc29tZS5taW4uY3NzIi8+CiAgICA8bGluayByZWw9InN0eWxlc2hlZXQiIGhyZWY9Imh0dHBzOi8vY2RuanMuY2xvdWRmbGFyZS5jb20vYWpheC9saWJzL0xlYWZsZXQuYXdlc29tZS1tYXJrZXJzLzIuMC4yL2xlYWZsZXQuYXdlc29tZS1tYXJrZXJzLmNzcyIvPgogICAgPGxpbmsgcmVsPSJzdHlsZXNoZWV0IiBocmVmPSJodHRwczovL3Jhd2Nkbi5naXRoYWNrLmNvbS9weXRob24tdmlzdWFsaXphdGlvbi9mb2xpdW0vbWFzdGVyL2ZvbGl1bS90ZW1wbGF0ZXMvbGVhZmxldC5hd2Vzb21lLnJvdGF0ZS5jc3MiLz4KICAgIDxzdHlsZT5odG1sLCBib2R5IHt3aWR0aDogMTAwJTtoZWlnaHQ6IDEwMCU7bWFyZ2luOiAwO3BhZGRpbmc6IDA7fTwvc3R5bGU+CiAgICA8c3R5bGU+I21hcCB7cG9zaXRpb246YWJzb2x1dGU7dG9wOjA7Ym90dG9tOjA7cmlnaHQ6MDtsZWZ0OjA7fTwvc3R5bGU+CiAgICAKICAgICAgICAgICAgPG1ldGEgbmFtZT0idmlld3BvcnQiIGNvbnRlbnQ9IndpZHRoPWRldmljZS13aWR0aCwKICAgICAgICAgICAgICAgIGluaXRpYWwtc2NhbGU9MS4wLCBtYXhpbXVtLXNjYWxlPTEuMCwgdXNlci1zY2FsYWJsZT1ubyIgLz4KICAgICAgICAgICAgPHN0eWxlPgogICAgICAgICAgICAgICAgI21hcF8yZGViODhhNDY2YmQ0NzcyODIzYjY3NjcyNzFkYmM1YyB7CiAgICAgICAgICAgICAgICAgICAgcG9zaXRpb246IHJlbGF0aXZlOwogICAgICAgICAgICAgICAgICAgIHdpZHRoOiAxMDAuMCU7CiAgICAgICAgICAgICAgICAgICAgaGVpZ2h0OiAxMDAuMCU7CiAgICAgICAgICAgICAgICAgICAgbGVmdDogMC4wJTsKICAgICAgICAgICAgICAgICAgICB0b3A6IDAuMCU7CiAgICAgICAgICAgICAgICB9CiAgICAgICAgICAgIDwvc3R5bGU+CiAgICAgICAgCjwvaGVhZD4KPGJvZHk+ICAgIAogICAgCiAgICAgICAgICAgIDxkaXYgY2xhc3M9ImZvbGl1bS1tYXAiIGlkPSJtYXBfMmRlYjg4YTQ2NmJkNDc3MjgyM2I2NzY3MjcxZGJjNWMiID48L2Rpdj4KICAgICAgICAKPC9ib2R5Pgo8c2NyaXB0PiAgICAKICAgIAogICAgICAgICAgICB2YXIgbWFwXzJkZWI4OGE0NjZiZDQ3NzI4MjNiNjc2NzI3MWRiYzVjID0gTC5tYXAoCiAgICAgICAgICAgICAgICAibWFwXzJkZWI4OGE0NjZiZDQ3NzI4MjNiNjc2NzI3MWRiYzVjIiwKICAgICAgICAgICAgICAgIHsKICAgICAgICAgICAgICAgICAgICBjZW50ZXI6IFszNy4zMzgyLCAtMTIxLjg4NjNdLAogICAgICAgICAgICAgICAgICAgIGNyczogTC5DUlMuRVBTRzM4NTcsCiAgICAgICAgICAgICAgICAgICAgem9vbTogMTIsCiAgICAgICAgICAgICAgICAgICAgem9vbUNvbnRyb2w6IHRydWUsCiAgICAgICAgICAgICAgICAgICAgcHJlZmVyQ2FudmFzOiBmYWxzZSwKICAgICAgICAgICAgICAgIH0KICAgICAgICAgICAgKTsKCiAgICAgICAgICAgIAoKICAgICAgICAKICAgIAogICAgICAgICAgICB2YXIgdGlsZV9sYXllcl81ODFiODY1NDEyZDc0NGNjODUzMDQ5YzhmOTIwM2E1YSA9IEwudGlsZUxheWVyKAogICAgICAgICAgICAgICAgImh0dHBzOi8ve3N9LnRpbGUub3BlbnN0cmVldG1hcC5vcmcve3p9L3t4fS97eX0ucG5nIiwKICAgICAgICAgICAgICAgIHsiYXR0cmlidXRpb24iOiAiRGF0YSBieSBcdTAwMjZjb3B5OyBcdTAwM2NhIGhyZWY9XCJodHRwOi8vb3BlbnN0cmVldG1hcC5vcmdcIlx1MDAzZU9wZW5TdHJlZXRNYXBcdTAwM2MvYVx1MDAzZSwgdW5kZXIgXHUwMDNjYSBocmVmPVwiaHR0cDovL3d3dy5vcGVuc3RyZWV0bWFwLm9yZy9jb3B5cmlnaHRcIlx1MDAzZU9EYkxcdTAwM2MvYVx1MDAzZS4iLCAiZGV0ZWN0UmV0aW5hIjogZmFsc2UsICJtYXhOYXRpdmVab29tIjogMTgsICJtYXhab29tIjogMTgsICJtaW5ab29tIjogMCwgIm5vV3JhcCI6IGZhbHNlLCAib3BhY2l0eSI6IDEsICJzdWJkb21haW5zIjogImFiYyIsICJ0bXMiOiBmYWxzZX0KICAgICAgICAgICAgKS5hZGRUbyhtYXBfMmRlYjg4YTQ2NmJkNDc3MjgyM2I2NzY3MjcxZGJjNWMpOwogICAgICAgIAo8L3NjcmlwdD4=\" style=\"position:absolute;width:100%;height:100%;left:0;top:0;border:none !important;\" allowfullscreen webkitallowfullscreen mozallowfullscreen></iframe></div></div>"
      ],
      "text/plain": [
       "<folium.folium.Map at 0x7f390a7b9320>"
      ]
     },
     "execution_count": 166,
     "metadata": {},
     "output_type": "execute_result"
    }
   ],
   "source": [
    "map_city"
   ]
  },
  {
   "cell_type": "code",
   "execution_count": null,
   "metadata": {},
   "outputs": [],
   "source": []
  }
 ],
 "metadata": {
  "file_extension": ".py",
  "kernelspec": {
   "display_name": "Python 3",
   "language": "python",
   "name": "python3"
  },
  "language_info": {
   "codemirror_mode": {
    "name": "ipython",
    "version": 3
   },
   "file_extension": ".py",
   "mimetype": "text/x-python",
   "name": "python",
   "nbconvert_exporter": "python",
   "pygments_lexer": "ipython3",
   "version": "3.6.8"
  },
  "mimetype": "text/x-python",
  "name": "python",
  "npconvert_exporter": "python",
  "pygments_lexer": "ipython3",
  "version": 3
 },
 "nbformat": 4,
 "nbformat_minor": 2
}
