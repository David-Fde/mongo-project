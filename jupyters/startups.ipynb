{
 "nbformat": 4,
 "nbformat_minor": 2,
 "metadata": {
  "language_info": {
   "name": "python",
   "codemirror_mode": {
    "name": "ipython",
    "version": 3
   },
   "version": "3.6.8"
  },
  "orig_nbformat": 2,
  "file_extension": ".py",
  "mimetype": "text/x-python",
  "name": "python",
  "npconvert_exporter": "python",
  "pygments_lexer": "ipython3",
  "version": 3
 },
 "cells": [
  {
   "cell_type": "code",
   "execution_count": 90,
   "metadata": {},
   "outputs": [],
   "source": [
    "import pandas as pd\n",
    "import os\n",
    "from dotenv import load_dotenv\n",
    "load_dotenv()\n",
    "import requests\n",
    "import json\n",
    "import time"
   ]
  },
  {
   "cell_type": "code",
   "execution_count": 65,
   "metadata": {},
   "outputs": [],
   "source": [
    "df = pd.read_csv(\"./input/startups.csv\")"
   ]
  },
  {
   "cell_type": "code",
   "execution_count": 66,
   "metadata": {},
   "outputs": [
    {
     "data": {
      "text/html": "<div>\n<style scoped>\n    .dataframe tbody tr th:only-of-type {\n        vertical-align: middle;\n    }\n\n    .dataframe tbody tr th {\n        vertical-align: top;\n    }\n\n    .dataframe thead th {\n        text-align: right;\n    }\n</style>\n<table border=\"1\" class=\"dataframe\">\n  <thead>\n    <tr style=\"text-align: right;\">\n      <th></th>\n      <th>Name</th>\n      <th>Profile URL</th>\n      <th>Signal</th>\n      <th>Joined</th>\n      <th>Location</th>\n      <th>Market</th>\n      <th>Website</th>\n      <th>Employees</th>\n      <th>Stage</th>\n      <th>Total Raised</th>\n    </tr>\n  </thead>\n  <tbody>\n    <tr>\n      <th>0</th>\n      <td>SIGNIFYD</td>\n      <td>https://angel.co/company/signifyd</td>\n      <td>5</td>\n      <td>Apr '11</td>\n      <td>San Jose</td>\n      <td>Fraud Detection</td>\n      <td>https://www.signifyd.com/</td>\n      <td>201-500</td>\n      <td>NaN</td>\n      <td>70000000.0</td>\n    </tr>\n    <tr>\n      <th>1</th>\n      <td>GageIn</td>\n      <td>https://angel.co/company/gagein</td>\n      <td>5</td>\n      <td>Dec '11</td>\n      <td>San Jose</td>\n      <td>Networking</td>\n      <td>http://www.gagein.com</td>\n      <td>11-50</td>\n      <td>Series A</td>\n      <td>6400000.0</td>\n    </tr>\n    <tr>\n      <th>2</th>\n      <td>Savioke</td>\n      <td>https://angel.co/company/savioke</td>\n      <td>5</td>\n      <td>Aug '17</td>\n      <td>San Jose</td>\n      <td>Robotics</td>\n      <td>https://savioke.com</td>\n      <td>11-50</td>\n      <td>Seed</td>\n      <td>17000000.0</td>\n    </tr>\n    <tr>\n      <th>3</th>\n      <td>Sokikom</td>\n      <td>https://angel.co/company/sokikom</td>\n      <td>5</td>\n      <td>May '12</td>\n      <td>San Jose</td>\n      <td>K-12 Education</td>\n      <td>http://www.sokikom.com</td>\n      <td>11-50</td>\n      <td>Acquired</td>\n      <td>3020000.0</td>\n    </tr>\n    <tr>\n      <th>4</th>\n      <td>Onerent</td>\n      <td>https://angel.co/company/onerent</td>\n      <td>5</td>\n      <td>Oct '14</td>\n      <td>Seattle</td>\n      <td>Rental Housing</td>\n      <td>https://www.onerent.co</td>\n      <td>51-200</td>\n      <td>Series A</td>\n      <td>4000000.0</td>\n    </tr>\n    <tr>\n      <th>5</th>\n      <td>Trustlook</td>\n      <td>https://angel.co/company/trustlook</td>\n      <td>5</td>\n      <td>Feb '16</td>\n      <td>San Jose</td>\n      <td>Enterprise Security</td>\n      <td>http://www.trustlook.com</td>\n      <td>11-50</td>\n      <td>Seed</td>\n      <td>21500000.0</td>\n    </tr>\n    <tr>\n      <th>6</th>\n      <td>Statflo</td>\n      <td>https://angel.co/company/statflo</td>\n      <td>5</td>\n      <td>Feb '13</td>\n      <td>San Jose</td>\n      <td>Big Data</td>\n      <td>http://www.statflo.com</td>\n      <td>11-50</td>\n      <td>Seed</td>\n      <td>2400000.0</td>\n    </tr>\n    <tr>\n      <th>7</th>\n      <td>Stratio</td>\n      <td>https://angel.co/company/stratio</td>\n      <td>4</td>\n      <td>Apr '13</td>\n      <td>San Jose</td>\n      <td>Technology</td>\n      <td>http://www.stratiotechnology.com/</td>\n      <td>11-50</td>\n      <td>Series A</td>\n      <td>3095000.0</td>\n    </tr>\n    <tr>\n      <th>8</th>\n      <td>NetBeez</td>\n      <td>https://angel.co/company/netbeez</td>\n      <td>4</td>\n      <td>Aug '13</td>\n      <td>Pittsburgh</td>\n      <td>Application Performance Monitoring</td>\n      <td>http://netbeez.net</td>\n      <td>11-50</td>\n      <td>Seed</td>\n      <td>1155000.0</td>\n    </tr>\n    <tr>\n      <th>9</th>\n      <td>Nota</td>\n      <td>https://angel.co/company/nota-3</td>\n      <td>4</td>\n      <td>Mar '14</td>\n      <td>San Jose</td>\n      <td>Messaging</td>\n      <td>http://notaland.com/</td>\n      <td>1-10</td>\n      <td>Series A</td>\n      <td>2501566.0</td>\n    </tr>\n    <tr>\n      <th>10</th>\n      <td>Whatfix</td>\n      <td>https://angel.co/company/whatfix</td>\n      <td>4</td>\n      <td>Jun '13</td>\n      <td>San Jose</td>\n      <td>Training</td>\n      <td>http://whatfix.com/</td>\n      <td>51-200</td>\n      <td>Series B</td>\n      <td>17200000.0</td>\n    </tr>\n    <tr>\n      <th>11</th>\n      <td>CNEX LABS</td>\n      <td>https://angel.co/company/cnex-labs</td>\n      <td>4</td>\n      <td>Aug '15</td>\n      <td>San Jose</td>\n      <td>Flash Storage</td>\n      <td>http://cnexlabs.com</td>\n      <td>51-200</td>\n      <td>Series A</td>\n      <td>23700000.0</td>\n    </tr>\n    <tr>\n      <th>12</th>\n      <td>uSens</td>\n      <td>https://angel.co/company/usens</td>\n      <td>4</td>\n      <td>Jan '15</td>\n      <td>San Jose</td>\n      <td>Digital Signage</td>\n      <td>http://www.usens.com</td>\n      <td>11-50</td>\n      <td>Series A</td>\n      <td>26700000.0</td>\n    </tr>\n    <tr>\n      <th>13</th>\n      <td>YFind Technologies</td>\n      <td>https://angel.co/company/yfind-technologies</td>\n      <td>4</td>\n      <td>Jun '13</td>\n      <td>San Jose</td>\n      <td>Retail Technology</td>\n      <td>http://www.y-find.com</td>\n      <td>1-10</td>\n      <td>Acquired</td>\n      <td>1800000.0</td>\n    </tr>\n    <tr>\n      <th>14</th>\n      <td>Petzila</td>\n      <td>https://angel.co/company/petzila-2</td>\n      <td>4</td>\n      <td>Dec '13</td>\n      <td>San Jose</td>\n      <td>Internet of Things</td>\n      <td>http://www.petzi.com</td>\n      <td>11-50</td>\n      <td>Seed</td>\n      <td>1500000.0</td>\n    </tr>\n    <tr>\n      <th>15</th>\n      <td>Genio</td>\n      <td>https://angel.co/company/genio</td>\n      <td>3</td>\n      <td>Jul '16</td>\n      <td>San Jose</td>\n      <td>SaaS</td>\n      <td>http://www.hellogenio.com</td>\n      <td>1-10</td>\n      <td>Seed</td>\n      <td>1500000.0</td>\n    </tr>\n    <tr>\n      <th>16</th>\n      <td>IntelliVision</td>\n      <td>https://angel.co/company/intellivision-1</td>\n      <td>1</td>\n      <td>Mar '18</td>\n      <td>San Jose</td>\n      <td>Smart Building</td>\n      <td>http://www.intelli-vision.com</td>\n      <td>51-200</td>\n      <td>Acquired</td>\n      <td>6000000.0</td>\n    </tr>\n    <tr>\n      <th>17</th>\n      <td>OnePointOne</td>\n      <td>https://angel.co/company/onepointone</td>\n      <td>1</td>\n      <td>Jun '18</td>\n      <td>San Jose</td>\n      <td>Robotics</td>\n      <td>http://www.onepointone.com</td>\n      <td>11-50</td>\n      <td>NaN</td>\n      <td>NaN</td>\n    </tr>\n  </tbody>\n</table>\n</div>",
      "text/plain": "                  Name                                  Profile URL  Signal  \\\n0             SIGNIFYD            https://angel.co/company/signifyd       5   \n1               GageIn              https://angel.co/company/gagein       5   \n2              Savioke             https://angel.co/company/savioke       5   \n3              Sokikom             https://angel.co/company/sokikom       5   \n4              Onerent             https://angel.co/company/onerent       5   \n5            Trustlook           https://angel.co/company/trustlook       5   \n6              Statflo             https://angel.co/company/statflo       5   \n7              Stratio             https://angel.co/company/stratio       4   \n8              NetBeez             https://angel.co/company/netbeez       4   \n9                 Nota              https://angel.co/company/nota-3       4   \n10             Whatfix             https://angel.co/company/whatfix       4   \n11           CNEX LABS           https://angel.co/company/cnex-labs       4   \n12               uSens               https://angel.co/company/usens       4   \n13  YFind Technologies  https://angel.co/company/yfind-technologies       4   \n14             Petzila           https://angel.co/company/petzila-2       4   \n15               Genio               https://angel.co/company/genio       3   \n16       IntelliVision     https://angel.co/company/intellivision-1       1   \n17         OnePointOne         https://angel.co/company/onepointone       1   \n\n     Joined    Location                              Market  \\\n0   Apr '11    San Jose                     Fraud Detection   \n1   Dec '11    San Jose                          Networking   \n2   Aug '17    San Jose                            Robotics   \n3   May '12    San Jose                      K-12 Education   \n4   Oct '14     Seattle                      Rental Housing   \n5   Feb '16    San Jose                 Enterprise Security   \n6   Feb '13    San Jose                            Big Data   \n7   Apr '13    San Jose                          Technology   \n8   Aug '13  Pittsburgh  Application Performance Monitoring   \n9   Mar '14    San Jose                           Messaging   \n10  Jun '13    San Jose                            Training   \n11  Aug '15    San Jose                       Flash Storage   \n12  Jan '15    San Jose                     Digital Signage   \n13  Jun '13    San Jose                   Retail Technology   \n14  Dec '13    San Jose                  Internet of Things   \n15  Jul '16    San Jose                                SaaS   \n16  Mar '18    San Jose                      Smart Building   \n17  Jun '18    San Jose                            Robotics   \n\n                              Website Employees     Stage  Total Raised  \n0           https://www.signifyd.com/   201-500       NaN    70000000.0  \n1               http://www.gagein.com     11-50  Series A     6400000.0  \n2                 https://savioke.com     11-50      Seed    17000000.0  \n3              http://www.sokikom.com     11-50  Acquired     3020000.0  \n4              https://www.onerent.co    51-200  Series A     4000000.0  \n5            http://www.trustlook.com     11-50      Seed    21500000.0  \n6              http://www.statflo.com     11-50      Seed     2400000.0  \n7   http://www.stratiotechnology.com/     11-50  Series A     3095000.0  \n8                  http://netbeez.net     11-50      Seed     1155000.0  \n9                http://notaland.com/      1-10  Series A     2501566.0  \n10                http://whatfix.com/    51-200  Series B    17200000.0  \n11                http://cnexlabs.com    51-200  Series A    23700000.0  \n12               http://www.usens.com     11-50  Series A    26700000.0  \n13              http://www.y-find.com      1-10  Acquired     1800000.0  \n14               http://www.petzi.com     11-50      Seed     1500000.0  \n15          http://www.hellogenio.com      1-10      Seed     1500000.0  \n16      http://www.intelli-vision.com    51-200  Acquired     6000000.0  \n17         http://www.onepointone.com     11-50       NaN           NaN  "
     },
     "execution_count": 66,
     "metadata": {},
     "output_type": "execute_result"
    }
   ],
   "source": [
    "df"
   ]
  },
  {
   "cell_type": "code",
   "execution_count": 67,
   "metadata": {},
   "outputs": [],
   "source": [
    "count = 0\n",
    "for city in df['Location']:\n",
    "    if city != 'San Jose':\n",
    "        df = df.drop([count])\n",
    "        count+=1\n",
    "    else:\n",
    "        count+=1       "
   ]
  },
  {
   "cell_type": "code",
   "execution_count": 69,
   "metadata": {},
   "outputs": [],
   "source": [
    "df = df.reset_index(drop=True)"
   ]
  },
  {
   "cell_type": "code",
   "execution_count": 74,
   "metadata": {},
   "outputs": [],
   "source": [
    "names = []\n",
    "for name in df['Name']:\n",
    "    names.append(name)"
   ]
  },
  {
   "cell_type": "code",
   "execution_count": 75,
   "metadata": {},
   "outputs": [
    {
     "data": {
      "text/plain": "['SIGNIFYD',\n 'GageIn',\n 'Savioke',\n 'Sokikom',\n 'Trustlook',\n 'Statflo',\n 'Stratio',\n 'Nota',\n 'Whatfix',\n 'CNEX LABS',\n 'uSens',\n 'YFind Technologies',\n 'Petzila',\n 'Genio',\n 'IntelliVision',\n 'OnePointOne']"
     },
     "execution_count": 75,
     "metadata": {},
     "output_type": "execute_result"
    }
   ],
   "source": [
    "names"
   ]
  },
  {
   "cell_type": "code",
   "execution_count": null,
   "metadata": {},
   "outputs": [],
   "source": []
  }
 ]
}