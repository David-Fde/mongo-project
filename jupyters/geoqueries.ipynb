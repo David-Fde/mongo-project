{
 "nbformat": 4,
 "nbformat_minor": 2,
 "metadata": {
  "language_info": {
   "name": "python",
   "codemirror_mode": {
    "name": "ipython",
    "version": 3
   },
   "version": "3.6.8"
  },
  "orig_nbformat": 2,
  "file_extension": ".py",
  "mimetype": "text/x-python",
  "name": "python",
  "npconvert_exporter": "python",
  "pygments_lexer": "ipython3",
  "version": 3
 },
 "cells": [
  {
   "cell_type": "code",
   "execution_count": 110,
   "metadata": {},
   "outputs": [],
   "source": [
    "import src.create_geoindex as geo\n",
    "import pandas as pd"
   ]
  },
  {
   "cell_type": "code",
   "execution_count": 34,
   "metadata": {},
   "outputs": [
    {
     "data": {
      "text/plain": "8"
     },
     "execution_count": 34,
     "metadata": {},
     "output_type": "execute_result"
    }
   ],
   "source": [
    "len(collections)"
   ]
  },
  {
   "cell_type": "code",
   "execution_count": 35,
   "metadata": {},
   "outputs": [],
   "source": [
    "collections = [\"airport_sanjose_ca\",\"elementary_school_sanjose_ca\",\"kindergarten_sanjose_ca\",\"night_clubs_sanjose_ca\",\"starbucks_sanjose\",\"train_stations_sanjose_ca\",\"vegan_restaurants_sanjose_ca\",\"startups_sanjose_ca\"]"
   ]
  },
  {
   "cell_type": "code",
   "execution_count": null,
   "metadata": {},
   "outputs": [],
   "source": []
  },
  {
   "cell_type": "code",
   "execution_count": null,
   "metadata": {},
   "outputs": [],
   "source": []
  },
  {
   "cell_type": "code",
   "execution_count": null,
   "metadata": {},
   "outputs": [],
   "source": []
  },
  {
   "cell_type": "code",
   "execution_count": 85,
   "metadata": {},
   "outputs": [],
   "source": [
    "db, coll = geo.connectCollection(\"companies\",\"startups_sanjose_ca\")\n",
    "potential_places = list(coll.find({\"geometry.location.lat\":{\"$ne\":None},\"geometry.location.lng\":{\"$ne\":None}}))"
   ]
  },
  {
   "cell_type": "code",
   "execution_count": 86,
   "metadata": {},
   "outputs": [
    {
     "name": "stdout",
     "output_type": "stream",
     "text": "[{'type': 'Point', 'coordinates': [-121.8930162, 37.3346871]}]\n[{'type': 'Point', 'coordinates': [-121.9248667, 37.3843212]}]\n[{'type': 'Point', 'coordinates': [-121.9203329, 37.3772716]}]\n[{'type': 'Point', 'coordinates': [-121.8941136, 37.3375816]}]\n[{'type': 'Point', 'coordinates': [-121.9453545, 37.3227596]}]\n[{'type': 'Point', 'coordinates': [-121.9216989, 37.3681982]}]\n[{'type': 'Point', 'coordinates': [-121.9485017, 37.317553]}]\n[{'type': 'Point', 'coordinates': [-122.0997643, 37.4259585]}]\n[{'type': 'Point', 'coordinates': [-121.778221, 37.236048]}]\n"
    }
   ],
   "source": [
    "for place in potential_places:\n",
    "    print(place['location'])"
   ]
  },
  {
   "cell_type": "code",
   "execution_count": 87,
   "metadata": {},
   "outputs": [
    {
     "data": {
      "text/plain": "9"
     },
     "execution_count": 87,
     "metadata": {},
     "output_type": "execute_result"
    }
   ],
   "source": [
    "len(potential_places)"
   ]
  },
  {
   "cell_type": "code",
   "execution_count": 99,
   "metadata": {},
   "outputs": [],
   "source": [
    "db1, coll1 = geo.connectCollection(\"companies\",\"startups_sanjose_ca\")\n",
    "db2, coll2 = geo.connectCollection(\"companies\",\"elementary_school_sanjose_ca\")"
   ]
  },
  {
   "cell_type": "code",
   "execution_count": 100,
   "metadata": {},
   "outputs": [],
   "source": [
    "potential_places = list(coll1.find({\"geometry.location.lat\":{\"$ne\":None},\"geometry.location.lng\":{\"$ne\":None}}))"
   ]
  },
  {
   "cell_type": "code",
   "execution_count": 112,
   "metadata": {},
   "outputs": [
    {
     "data": {
      "text/plain": "'Savioke'"
     },
     "execution_count": 112,
     "metadata": {},
     "output_type": "execute_result"
    }
   ],
   "source": [
    "potential_places[0]['name']"
   ]
  },
  {
   "cell_type": "code",
   "execution_count": 165,
   "metadata": {},
   "outputs": [],
   "source": [
    "def get_points(coll,geoindex,radius):\n",
    "    near_places = coll.find(\n",
    "        {\"location\":\n",
    "         {\"$near\":\n",
    "          {\"$geometry\":\n",
    "           geoindex,\n",
    "            \"$maxDistance\":radius\n",
    "           }\n",
    "          }\n",
    "        }\n",
    "    )\n",
    "    near_places = list(near_places)\n",
    "    return near_places"
   ]
  },
  {
   "cell_type": "code",
   "execution_count": 191,
   "metadata": {},
   "outputs": [],
   "source": [
    "dicti = {\n",
    "    'name':[],\n",
    "    'elementary_school':[]\n",
    "}\n",
    "for potential_place in potential_places:\n",
    "    dicti['name'].append(potential_place['name'])\n",
    "    dicti['elementary_school'].append(len(get_points(coll2,potential_place['location'],2000)))"
   ]
  },
  {
   "cell_type": "code",
   "execution_count": 192,
   "metadata": {},
   "outputs": [
    {
     "data": {
      "text/plain": "{'name': ['Savioke',\n  'Signifyd',\n  'Trustlook Inc.',\n  'Whatfix',\n  'CNEX Labs, Inc.',\n  'uSens, Inc.',\n  'Petzila',\n  'Stratio, Inc.',\n  'IntelliVision'],\n 'elementary_school': [5, 0, 1, 4, 1, 1, 1, 0, 0]}"
     },
     "execution_count": 192,
     "metadata": {},
     "output_type": "execute_result"
    }
   ],
   "source": [
    "dicti"
   ]
  },
  {
   "cell_type": "code",
   "execution_count": 234,
   "metadata": {},
   "outputs": [],
   "source": [
    "ranking = pd.DataFrame(dicti)\n",
    "total = {'total':[]}\n",
    "for e in range(len(dicti['name'])):\n",
    "    total['total'].append(dicti['elementary_school'][e]*0.3)"
   ]
  },
  {
   "cell_type": "code",
   "execution_count": 241,
   "metadata": {},
   "outputs": [
    {
     "data": {
      "text/plain": "total    [1.5, 0.0, 0.3, 1.2, 0.3, 0.3, 0.3, 0.0, 0.0]\ndtype: object"
     },
     "execution_count": 241,
     "metadata": {},
     "output_type": "execute_result"
    }
   ],
   "source": [
    "total_series = pd.Series(total)\n",
    "total_series"
   ]
  },
  {
   "cell_type": "code",
   "execution_count": 242,
   "metadata": {},
   "outputs": [],
   "source": [
    "ranking['total'] = total_series[0]"
   ]
  },
  {
   "cell_type": "code",
   "execution_count": 243,
   "metadata": {},
   "outputs": [
    {
     "data": {
      "text/html": "<div>\n<style scoped>\n    .dataframe tbody tr th:only-of-type {\n        vertical-align: middle;\n    }\n\n    .dataframe tbody tr th {\n        vertical-align: top;\n    }\n\n    .dataframe thead th {\n        text-align: right;\n    }\n</style>\n<table border=\"1\" class=\"dataframe\">\n  <thead>\n    <tr style=\"text-align: right;\">\n      <th></th>\n      <th>name</th>\n      <th>elementary_school</th>\n      <th>total</th>\n    </tr>\n  </thead>\n  <tbody>\n    <tr>\n      <th>0</th>\n      <td>Savioke</td>\n      <td>5</td>\n      <td>1.5</td>\n    </tr>\n    <tr>\n      <th>1</th>\n      <td>Signifyd</td>\n      <td>0</td>\n      <td>0.0</td>\n    </tr>\n    <tr>\n      <th>2</th>\n      <td>Trustlook Inc.</td>\n      <td>1</td>\n      <td>0.3</td>\n    </tr>\n    <tr>\n      <th>3</th>\n      <td>Whatfix</td>\n      <td>4</td>\n      <td>1.2</td>\n    </tr>\n    <tr>\n      <th>4</th>\n      <td>CNEX Labs, Inc.</td>\n      <td>1</td>\n      <td>0.3</td>\n    </tr>\n    <tr>\n      <th>5</th>\n      <td>uSens, Inc.</td>\n      <td>1</td>\n      <td>0.3</td>\n    </tr>\n    <tr>\n      <th>6</th>\n      <td>Petzila</td>\n      <td>1</td>\n      <td>0.3</td>\n    </tr>\n    <tr>\n      <th>7</th>\n      <td>Stratio, Inc.</td>\n      <td>0</td>\n      <td>0.0</td>\n    </tr>\n    <tr>\n      <th>8</th>\n      <td>IntelliVision</td>\n      <td>0</td>\n      <td>0.0</td>\n    </tr>\n  </tbody>\n</table>\n</div>",
      "text/plain": "              name  elementary_school  total\n0          Savioke                  5    1.5\n1         Signifyd                  0    0.0\n2   Trustlook Inc.                  1    0.3\n3          Whatfix                  4    1.2\n4  CNEX Labs, Inc.                  1    0.3\n5      uSens, Inc.                  1    0.3\n6          Petzila                  1    0.3\n7    Stratio, Inc.                  0    0.0\n8    IntelliVision                  0    0.0"
     },
     "execution_count": 243,
     "metadata": {},
     "output_type": "execute_result"
    }
   ],
   "source": [
    "ranking"
   ]
  },
  {
   "cell_type": "code",
   "execution_count": 19,
   "metadata": {},
   "outputs": [],
   "source": [
    "collections = [\"airport_sanjose_ca\",\"elementary_school_sanjose_ca\",\"kindergarten_sanjose_ca\",\"night_clubs_sanjose_ca\",\"starbucks_sanjose\",\"train_stations_sanjose_ca\",\"vegan_restaurants_sanjose_ca\"]"
   ]
  },
  {
   "cell_type": "code",
   "execution_count": 20,
   "metadata": {},
   "outputs": [],
   "source": [
    "radius_points = {\n",
    "    'airport' : 20000,\n",
    "    'train_station' : 2000,\n",
    "    'elementary_school' : 1000,\n",
    "    'kindergarten' : 1000,\n",
    "    'night_club' : 500,\n",
    "    'starbucks' : 200,\n",
    "    'vegan_restaurant' : 200        \n",
    "    }"
   ]
  },
  {
   "cell_type": "code",
   "execution_count": 27,
   "metadata": {},
   "outputs": [],
   "source": [
    "def places_radius(name):\n",
    "    radius = 0\n",
    "    for x,y in radius_points.items():\n",
    "\n",
    "        if x in name:\n",
    "            radius = y\n",
    "    return radius"
   ]
  },
  {
   "cell_type": "code",
   "execution_count": 28,
   "metadata": {},
   "outputs": [
    {
     "name": "stdout",
     "output_type": "stream",
     "text": "airport_sanjose_ca\n20000\nelementary_school_sanjose_ca\n0\nkindergarten_sanjose_ca\n0\nnight_clubs_sanjose_ca\n0\nstarbucks_sanjose\n0\ntrain_stations_sanjose_ca\n0\nvegan_restaurants_sanjose_ca\n0\n"
    }
   ],
   "source": [
    "for collection in collections:\n",
    "    print(collection)\n",
    "    print(places_radius(collection))"
   ]
  },
  {
   "cell_type": "code",
   "execution_count": null,
   "metadata": {},
   "outputs": [],
   "source": [
    "points = {\n",
    "       'airport' : 0.2,\n",
    "       'train_station' : 0.2,\n",
    "       'elementary_school' : 0.3,\n",
    "       'kindergarten' : 0.3,\n",
    "        'night_club' : 0.7,\n",
    "        'starbucks' : 0.5,\n",
    "        'vegan_restaurant' : 0.4        \n",
    "        }"
   ]
  },
  {
   "source": [
    "import pandas as pd\n",
    "total_ranking = pd.DataFrame(\"name\",\"airport_sanjose_ca\",\"total_airport_sanjose_ca\",\"elementary_school_sanjose_ca\",\"total_elementary_school_sanjose_ca\"\n",
    "                      \"kindergarten_sanjose_ca\",\"total_kindergarten_sanjose_ca\",\"night_clubs_sanjose_ca\",\"total_night_clubs_sanjose_ca\", \"starbucks_sanjose\",\n",
    "                      \"total_starbucks_sanjose\",\"train_stations_sanjose_ca\",\"total_train_stations_sanjose_ca\",\"vegan_restaurants_sanjose_ca\",\"total_vegan_restaurants_sanjose_ca\")"
   ],
   "cell_type": "code",
   "outputs": [
    {
     "output_type": "error",
     "ename": "TypeError",
     "evalue": "__init__() takes from 1 to 6 positional arguments but 15 were given",
     "traceback": [
      "\u001b[0;31m---------------------------------------------------------------------------\u001b[0m",
      "\u001b[0;31mTypeError\u001b[0m                                 Traceback (most recent call last)",
      "\u001b[0;32m<ipython-input-35-14c3e7b63541>\u001b[0m in \u001b[0;36m<module>\u001b[0;34m\u001b[0m\n\u001b[1;32m      2\u001b[0m total_ranking = pd.DataFrame(\"name\",\"airport_sanjose_ca\",\"total_airport_sanjose_ca\",\"elementary_school_sanjose_ca\",\"total_elementary_school_sanjose_ca\"\n\u001b[1;32m      3\u001b[0m                       \u001b[0;34m\"kindergarten_sanjose_ca\"\u001b[0m\u001b[0;34m,\u001b[0m\u001b[0;34m\"total_kindergarten_sanjose_ca\"\u001b[0m\u001b[0;34m,\u001b[0m\u001b[0;34m\"night_clubs_sanjose_ca\"\u001b[0m\u001b[0;34m,\u001b[0m\u001b[0;34m\"total_night_clubs_sanjose_ca\"\u001b[0m\u001b[0;34m,\u001b[0m \u001b[0;34m\"starbucks_sanjose\"\u001b[0m\u001b[0;34m,\u001b[0m\u001b[0;34m\u001b[0m\u001b[0;34m\u001b[0m\u001b[0m\n\u001b[0;32m----> 4\u001b[0;31m                       \"total_starbucks_sanjose\",\"train_stations_sanjose_ca\",\"total_train_stations_sanjose_ca\",\"vegan_restaurants_sanjose_ca\",\"total_vegan_restaurants_sanjose_ca\")\n\u001b[0m",
      "\u001b[0;31mTypeError\u001b[0m: __init__() takes from 1 to 6 positional arguments but 15 were given"
     ]
    }
   ],
   "metadata": {},
   "execution_count": 35
  },
  {
   "cell_type": "code",
   "execution_count": null,
   "metadata": {},
   "outputs": [],
   "source": []
  },
  {
   "source": [
    "len(total_ranking)"
   ],
   "cell_type": "code",
   "outputs": [],
   "metadata": {},
   "execution_count": 0
  }
 ]
}