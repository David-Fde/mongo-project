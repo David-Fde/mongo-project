{
 "nbformat": 4,
 "nbformat_minor": 2,
 "metadata": {
  "language_info": {
   "name": "python",
   "codemirror_mode": {
    "name": "ipython",
    "version": 3
   },
   "version": "3.6.8"
  },
  "orig_nbformat": 2,
  "file_extension": ".py",
  "mimetype": "text/x-python",
  "name": "python",
  "npconvert_exporter": "python",
  "pygments_lexer": "ipython3",
  "version": 3
 },
 "cells": [
  {
   "cell_type": "code",
   "execution_count": 110,
   "metadata": {},
   "outputs": [],
   "source": [
    "import src.create_geoindex as geo\n",
    "import pandas as pd"
   ]
  },
  {
   "cell_type": "code",
   "execution_count": 34,
   "metadata": {},
   "outputs": [
    {
     "data": {
      "text/plain": "8"
     },
     "execution_count": 34,
     "metadata": {},
     "output_type": "execute_result"
    }
   ],
   "source": [
    "len(collections)"
   ]
  },
  {
   "cell_type": "code",
   "execution_count": 35,
   "metadata": {},
   "outputs": [],
   "source": [
    "collections = [\"airport_sanjose_ca\",\"elementary_school_sanjose_ca\",\"kindergarten_sanjose_ca\",\"night_clubs_sanjose_ca\",\"starbucks_sanjose\",\"train_stations_sanjose_ca\",\"vegan_restaurants_sanjose_ca\",\"startups_sanjose_ca\"]"
   ]
  },
  {
   "cell_type": "code",
   "execution_count": null,
   "metadata": {},
   "outputs": [],
   "source": []
  },
  {
   "cell_type": "code",
   "execution_count": null,
   "metadata": {},
   "outputs": [],
   "source": []
  },
  {
   "cell_type": "code",
   "execution_count": null,
   "metadata": {},
   "outputs": [],
   "source": []
  },
  {
   "cell_type": "code",
   "execution_count": 85,
   "metadata": {},
   "outputs": [],
   "source": [
    "db, coll = geo.connectCollection(\"companies\",\"startups_sanjose_ca\")\n",
    "potential_places = list(coll.find({\"geometry.location.lat\":{\"$ne\":None},\"geometry.location.lng\":{\"$ne\":None}}))"
   ]
  },
  {
   "cell_type": "code",
   "execution_count": 86,
   "metadata": {},
   "outputs": [
    {
     "name": "stdout",
     "output_type": "stream",
     "text": "[{'type': 'Point', 'coordinates': [-121.8930162, 37.3346871]}]\n[{'type': 'Point', 'coordinates': [-121.9248667, 37.3843212]}]\n[{'type': 'Point', 'coordinates': [-121.9203329, 37.3772716]}]\n[{'type': 'Point', 'coordinates': [-121.8941136, 37.3375816]}]\n[{'type': 'Point', 'coordinates': [-121.9453545, 37.3227596]}]\n[{'type': 'Point', 'coordinates': [-121.9216989, 37.3681982]}]\n[{'type': 'Point', 'coordinates': [-121.9485017, 37.317553]}]\n[{'type': 'Point', 'coordinates': [-122.0997643, 37.4259585]}]\n[{'type': 'Point', 'coordinates': [-121.778221, 37.236048]}]\n"
    }
   ],
   "source": [
    "for place in potential_places:\n",
    "    print(place['location'])"
   ]
  },
  {
   "cell_type": "code",
   "execution_count": 87,
   "metadata": {},
   "outputs": [
    {
     "data": {
      "text/plain": "9"
     },
     "execution_count": 87,
     "metadata": {},
     "output_type": "execute_result"
    }
   ],
   "source": [
    "len(potential_places)"
   ]
  },
  {
   "cell_type": "code",
   "execution_count": 99,
   "metadata": {},
   "outputs": [],
   "source": [
    "db1, coll1 = geo.connectCollection(\"companies\",\"startups_sanjose_ca\")\n",
    "db2, coll2 = geo.connectCollection(\"companies\",\"elementary_school_sanjose_ca\")"
   ]
  },
  {
   "cell_type": "code",
   "execution_count": 100,
   "metadata": {},
   "outputs": [],
   "source": [
    "potential_places = list(coll1.find({\"geometry.location.lat\":{\"$ne\":None},\"geometry.location.lng\":{\"$ne\":None}}))"
   ]
  },
  {
   "cell_type": "code",
   "execution_count": 112,
   "metadata": {},
   "outputs": [
    {
     "data": {
      "text/plain": "'Savioke'"
     },
     "execution_count": 112,
     "metadata": {},
     "output_type": "execute_result"
    }
   ],
   "source": [
    "potential_places[0]['name']"
   ]
  },
  {
   "cell_type": "code",
   "execution_count": 103,
   "metadata": {},
   "outputs": [],
   "source": [
    "def get_points(coll,geoindex,radius):\n",
    "    near_places = coll.find(\n",
    "        {\"location\":\n",
    "         {\"$near\":\n",
    "          {\"$geometry\":\n",
    "           geoindex\n",
    "            ,\n",
    "            \"$maxDistance\":radius\n",
    "           }\n",
    "          }\n",
    "        }\n",
    "    )\n",
    "    near_places = list(near_places)\n",
    "    return near_places"
   ]
  },
  {
   "cell_type": "code",
   "execution_count": 121,
   "metadata": {},
   "outputs": [],
   "source": [
    "df_elementary = pd.DataFrame()\n",
    "for potential_place in potential_places:\n",
    "    df_elementary = get_points(coll2,potential_place['location'],5000)"
   ]
  },
  {
   "cell_type": "code",
   "execution_count": 119,
   "metadata": {},
   "outputs": [
    {
     "ename": "AttributeError",
     "evalue": "'list' object has no attribute 'head'",
     "output_type": "error",
     "traceback": [
      "\u001b[0;31m---------------------------------------------------------------------------\u001b[0m",
      "\u001b[0;31mAttributeError\u001b[0m                            Traceback (most recent call last)",
      "\u001b[0;32m<ipython-input-119-2c9f46154326>\u001b[0m in \u001b[0;36m<module>\u001b[0;34m\u001b[0m\n\u001b[0;32m----> 1\u001b[0;31m \u001b[0mdf_elementary\u001b[0m\u001b[0;34m.\u001b[0m\u001b[0mhead\u001b[0m\u001b[0;34m(\u001b[0m\u001b[0;34m)\u001b[0m\u001b[0;34m\u001b[0m\u001b[0;34m\u001b[0m\u001b[0m\n\u001b[0m",
      "\u001b[0;31mAttributeError\u001b[0m: 'list' object has no attribute 'head'"
     ]
    }
   ],
   "source": [
    "df_elementary.head()"
   ]
  },
  {
   "cell_type": "code",
   "execution_count": 107,
   "metadata": {},
   "outputs": [
    {
     "data": {
      "text/plain": "[{'_id': ObjectId('5dd4356bda35057e70483e65'),\n  'formatted_address': '55 N 7th St, San Jose, CA 95112, United States',\n  'geometry': {'location': {'lat': 37.3395971, 'lng': -121.885251},\n   'viewport': {'northeast': {'lat': 37.3406682299, 'lng': -121.8837071701},\n    'southwest': {'lat': 37.3379685701, 'lng': -121.8864068299}}},\n  'icon': 'https://maps.gstatic.com/mapfiles/place_api/icons/school-71.png',\n  'id': 'cc9d5a6ed5df911cf135c1cc309fa310d03c08d2',\n  'name': 'Horace Mann Elementary School',\n  'photos': [{'height': 469,\n    'html_attributions': ['<a href=\"https://maps.google.com/maps/contrib/117056001111972530890/photos\">Ramon Sanchez</a>'],\n    'photo_reference': 'CmRaAAAAxIXh3fcpOfNwPI-GDpNy1-uMvneDmoqnmz4EzE1fUodVG--401so6kOYf-aqAM2HX9RSOYPh_kgrjjTwFb5rD5ArVSJDE7v5oXNYHXiyRsTGR_yjuJ4DYF6GNK8J7qNKEhAiTAjjzkk31A2-pYCRJE1uGhQHcjEbO-XNkWZ3_6o_MBiFpKHEaQ',\n    'width': 943}],\n  'place_id': 'ChIJU-ph573Mj4AR5Te-VAnL0hQ',\n  'plus_code': {'compound_code': '84Q7+RV San Jose, California, United States',\n   'global_code': '849W84Q7+RV'},\n  'rating': 4.5,\n  'reference': 'ChIJU-ph573Mj4AR5Te-VAnL0hQ',\n  'types': ['primary_school', 'school', 'point_of_interest', 'establishment'],\n  'user_ratings_total': 11,\n  'opening_hours': None,\n  'location': {'type': 'Point', 'coordinates': [-121.885251, 37.3395971]}},\n {'_id': ObjectId('5dd4356bda35057e70483e66'),\n  'formatted_address': '625 S 7th St, San Jose, CA 95112, United States',\n  'geometry': {'location': {'lat': 37.3295273, 'lng': -121.877701},\n   'viewport': {'northeast': {'lat': 37.3307985299, 'lng': -121.8765196201},\n    'southwest': {'lat': 37.3280988701, 'lng': -121.8792192799}}},\n  'icon': 'https://maps.gstatic.com/mapfiles/place_api/icons/school-71.png',\n  'id': '451b8690a23c3986a5826e5c040dd588fb0438d4',\n  'name': 'Lowell Elementary School',\n  'photos': None,\n  'place_id': 'ChIJfXtolsnMj4ARhx8cgPfWblE',\n  'plus_code': {'compound_code': '84HC+RW San Jose, California, United States',\n   'global_code': '849W84HC+RW'},\n  'rating': 3.7,\n  'reference': 'ChIJfXtolsnMj4ARhx8cgPfWblE',\n  'types': ['primary_school', 'school', 'point_of_interest', 'establishment'],\n  'user_ratings_total': 11,\n  'opening_hours': None,\n  'location': {'type': 'Point', 'coordinates': [-121.877701, 37.3295273]}},\n {'_id': ObjectId('5dd4356bda35057e70483e64'),\n  'formatted_address': '502 Illinois Ave, San Jose, CA 95125, United States',\n  'geometry': {'location': {'lat': 37.3213225, 'lng': -121.8958036},\n   'viewport': {'northeast': {'lat': 37.3226827799, 'lng': -121.8947673701},\n    'southwest': {'lat': 37.3199831201, 'lng': -121.8974670299}}},\n  'icon': 'https://maps.gstatic.com/mapfiles/place_api/icons/school-71.png',\n  'id': '2eaeeb9647c1a56cf74ede30f0bad3a79001b771',\n  'name': 'Gardner Elementary School',\n  'photos': [{'height': 4032,\n    'html_attributions': ['<a href=\"https://maps.google.com/maps/contrib/115640446258409508743/photos\">Zhu Yanbin</a>'],\n    'photo_reference': 'CmRaAAAAMTi6T9Snq9rT7wGYuUQUbguCUxIEQBWRGFjXi0eQOiBTVcB6Yz2qE37bG8C7yfraFMGKpNp9m2cDxprMLp1Au7evifLZ-d0n3_2gVc5VwnXKXLiS5Mvg2lIHL8wtkFOWEhBEMDTb1eU59D19WzlNQHgqGhQ_MmE3sNHOHZ-wdbCpMnpecwMEZA',\n    'width': 3024}],\n  'place_id': 'ChIJlWZZd6zMj4ARzaiEbjTTheE',\n  'plus_code': {'compound_code': '84C3+GM San Jose, California, United States',\n   'global_code': '849W84C3+GM'},\n  'rating': 4.5,\n  'reference': 'ChIJlWZZd6zMj4ARzaiEbjTTheE',\n  'types': ['primary_school', 'school', 'point_of_interest', 'establishment'],\n  'user_ratings_total': 13,\n  'opening_hours': None,\n  'location': {'type': 'Point', 'coordinates': [-121.8958036, 37.3213225]}},\n {'_id': ObjectId('5dd4356bda35057e70483e71'),\n  'formatted_address': '100 Oak St, San Jose, CA 95110, United States',\n  'geometry': {'location': {'lat': 37.3211268, 'lng': -121.8812984},\n   'viewport': {'northeast': {'lat': 37.3224879799, 'lng': -121.8797663701},\n    'southwest': {'lat': 37.3197883201, 'lng': -121.8824660299}}},\n  'icon': 'https://maps.gstatic.com/mapfiles/place_api/icons/school-71.png',\n  'id': 'd4faff75889582563534d44342e555722eac7351',\n  'name': 'Washington Elementary School',\n  'photos': [{'height': 1080,\n    'html_attributions': ['<a href=\"https://maps.google.com/maps/contrib/111079280429557757554/photos\">Ana Luna</a>'],\n    'photo_reference': 'CmRaAAAAkTJIwvArQgUP3Yyx_ZuO5c25S_lL9a29a5i_DpdsJDfzZiPzEbFgoRofdWEPNEQ8sG_dF3xK6a1Rv37FxAD8l4MgAdHXjyG8HGVxBaMFebQUTKfFhS-p9Cc2SfPnghABEhDuaeaArsjxhMpsz47x6xWTGhQ8rIynWrzzclt3khxo8ZZtAAfg1g',\n    'width': 1920}],\n  'place_id': 'ChIJ86BXJ0szjoAR1ANIcsfO-7U',\n  'plus_code': {'compound_code': '84C9+FF San Jose, California, United States',\n   'global_code': '849W84C9+FF'},\n  'rating': 3.5,\n  'reference': 'ChIJ86BXJ0szjoAR1ANIcsfO-7U',\n  'types': ['primary_school', 'school', 'point_of_interest', 'establishment'],\n  'user_ratings_total': 10,\n  'opening_hours': None,\n  'location': {'type': 'Point', 'coordinates': [-121.8812984, 37.3211268]}},\n {'_id': ObjectId('5dd4356bda35057e70483e60'),\n  'formatted_address': '470 Jackson St, San Jose, CA 95112, United States',\n  'geometry': {'location': {'lat': 37.350647, 'lng': -121.887753},\n   'viewport': {'northeast': {'lat': 37.3524862299, 'lng': -121.8869038701},\n    'southwest': {'lat': 37.3497865701, 'lng': -121.8896035299}}},\n  'icon': 'https://maps.gstatic.com/mapfiles/place_api/icons/school-71.png',\n  'id': 'd887708edb6b2f7c8f843a0f5133a36fef153849',\n  'name': 'Grant Elementary School',\n  'photos': [{'height': 4032,\n    'html_attributions': ['<a href=\"https://maps.google.com/maps/contrib/105046510870789285839/photos\">Laura Iriondo</a>'],\n    'photo_reference': 'CmRaAAAAkpw-EtWOsKb4QqkrebDrbA-MnOh3fs-uZC7G9Iw7kMl5Xgc8bEH4xW4qnXR9NZsYwRQ_Wo2iXT08yYd8mpRmWMKK0EVESxIelxi5ZRxPCEw0XhJm6UCC4W3NO4y73dPtEhCNl6-IqP-xcsYe11Fk-AEsGhRiRdOednga-PzYtUoqaH2Fz7U-ZQ',\n    'width': 2268}],\n  'place_id': 'ChIJJ8dfyo_Mj4ARlA9pr7GYvTM',\n  'plus_code': {'compound_code': '9426+7V San Jose, California, United States',\n   'global_code': '849W9426+7V'},\n  'rating': 3.7,\n  'reference': 'ChIJJ8dfyo_Mj4ARlA9pr7GYvTM',\n  'types': ['primary_school', 'school', 'point_of_interest', 'establishment'],\n  'user_ratings_total': 17,\n  'opening_hours': None,\n  'location': {'type': 'Point', 'coordinates': [-121.887753, 37.350647]}},\n {'_id': ObjectId('5dd4356bda35057e70483e62'),\n  'formatted_address': '890 E William St, San Jose, CA 95116, United States',\n  'geometry': {'location': {'lat': 37.337472, 'lng': -121.866108},\n   'viewport': {'northeast': {'lat': 37.3392069799, 'lng': -121.8651709201},\n    'southwest': {'lat': 37.3365073201, 'lng': -121.8678705799}}},\n  'icon': 'https://maps.gstatic.com/mapfiles/place_api/icons/school-71.png',\n  'id': 'b88edc7a97de28d68e5d55386d29211431ed6e70',\n  'name': 'Olinder Elementary School',\n  'photos': [{'height': 3024,\n    'html_attributions': ['<a href=\"https://maps.google.com/maps/contrib/117683678244622019032/photos\">Thu Cuong L</a>'],\n    'photo_reference': 'CmRaAAAAKplxfA6_PjWXQWFMTdl9vpqIPtVmprb_SR1YF69ipKWNEANKzfw8gtuRt0ZY0bfsycuvjYZMOvHOHb9yIdK1CTGPxLeXDIS1PY554zi-u4gDppNwTFq8aM6UQ4feGmMuEhD7zoVJOpCHaVYrtumF4WOAGhS9XtjBt5KHIG2d0_xwUAHG0nVFnQ',\n    'width': 4032}],\n  'place_id': 'ChIJg1K-n9rMj4ARx-B8ujcTSNo',\n  'plus_code': {'compound_code': '84PM+XH San Jose, California, United States',\n   'global_code': '849W84PM+XH'},\n  'rating': 4.5,\n  'reference': 'ChIJg1K-n9rMj4ARx-B8ujcTSNo',\n  'types': ['primary_school', 'school', 'point_of_interest', 'establishment'],\n  'user_ratings_total': 11,\n  'opening_hours': None,\n  'location': {'type': 'Point', 'coordinates': [-121.866108, 37.337472]}},\n {'_id': ObjectId('5dd4356bda35057e70483e63'),\n  'formatted_address': '651 Macredes Ave, San Jose, CA 95116, United States',\n  'geometry': {'location': {'lat': 37.3375638, 'lng': -121.8615561},\n   'viewport': {'northeast': {'lat': 37.3390279299, 'lng': -121.85966265},\n    'southwest': {'lat': 37.3363282701, 'lng': -121.86497205}}},\n  'icon': 'https://maps.gstatic.com/mapfiles/place_api/icons/school-71.png',\n  'id': '7b7567730dc6eb7ef219f04521361683f824c79b',\n  'name': 'McKinley Elementary School',\n  'photos': None,\n  'place_id': 'ChIJOQV3QdfMj4ARtSMbyHvdNO0',\n  'plus_code': {'compound_code': '84QQ+29 San Jose, California, United States',\n   'global_code': '849W84QQ+29'},\n  'rating': 4.5,\n  'reference': 'ChIJOQV3QdfMj4ARtSMbyHvdNO0',\n  'types': ['primary_school', 'school', 'point_of_interest', 'establishment'],\n  'user_ratings_total': 10,\n  'opening_hours': None,\n  'location': {'type': 'Point', 'coordinates': [-121.8615561, 37.3375638]}},\n {'_id': ObjectId('5dd4356bda35057e70483e55'),\n  'formatted_address': '1425 Lincoln Ave, San Jose, CA 95125, United States',\n  'geometry': {'location': {'lat': 37.3024917, 'lng': -121.8971717},\n   'viewport': {'northeast': {'lat': 37.3040910799, 'lng': -121.8961858201},\n    'southwest': {'lat': 37.3013914201, 'lng': -121.8988854799}}},\n  'icon': 'https://maps.gstatic.com/mapfiles/place_api/icons/school-71.png',\n  'id': 'cb6a7c2fcb83b8252ac0d7abed36a0f7bad5c658',\n  'name': 'Willow Glen Elementary School',\n  'photos': [{'height': 3024,\n    'html_attributions': ['<a href=\"https://maps.google.com/maps/contrib/100557233042623135184/photos\">Elmer Garduno</a>'],\n    'photo_reference': 'CmRaAAAAVVPCm-KHh8xDAC3oFF9mCIGTJa3zvVHd3wp9ZGrTDqjEZgHU9dANVztH822Ux5r0agTEVQjFEROitZ-NCy2u1LPaF-8GgRs3MALv1JvWaA9IsIG54ff5k9cVjtY1YxwJEhD9rIGHK0u_7iAqYAcALu8TGhTjSVcmjBaL75SznTSE0dvjppFisg',\n    'width': 4032}],\n  'place_id': 'ChIJFWTiSlkzjoAR1lledmhVvpk',\n  'plus_code': {'compound_code': '8423+X4 San Jose, California, United States',\n   'global_code': '849W8423+X4'},\n  'rating': 4.0,\n  'reference': 'ChIJFWTiSlkzjoAR1lledmhVvpk',\n  'types': ['primary_school', 'school', 'point_of_interest', 'establishment'],\n  'user_ratings_total': 10,\n  'opening_hours': None,\n  'location': {'type': 'Point', 'coordinates': [-121.8971717, 37.3024917]}},\n {'_id': ObjectId('5dd4356bda35057e70483e53'),\n  'formatted_address': '102 Sonora Ave, San Jose, CA 95110, United States',\n  'geometry': {'location': {'lat': 37.3631457, 'lng': -121.9128029},\n   'viewport': {'northeast': {'lat': 37.3646238799, 'lng': -121.9115044201},\n    'southwest': {'lat': 37.3619242201, 'lng': -121.9142040799}}},\n  'icon': 'https://maps.gstatic.com/mapfiles/place_api/icons/school-71.png',\n  'id': 'fb43cf6e0bf6c916efda2c94666a5ee05ff39604',\n  'name': 'Bachrodt Elementary School',\n  'photos': [{'height': 4032,\n    'html_attributions': ['<a href=\"https://maps.google.com/maps/contrib/106003806626916502164/photos\">A Google User</a>'],\n    'photo_reference': 'CmRaAAAAyFNzE0CeW3-S3dkh3Y6q5e3FW-UGIf90CI0NAQEsZcZYpM0YuA3OtNrXV3I0d6ILcaHBRfxbBVOLV7aP5cYHSyqY8F8hwNm9w83SsvaMopgiEMer8MKUK7OEF6Cg8_5NEhAhaWzdh_GovGQAM9MjCtigGhTYJZH9aLHHHjCyZVCgEnzEKWLs8g',\n    'width': 3024}],\n  'place_id': 'ChIJT4wM1I_Lj4AREy5mtIFQqL0',\n  'plus_code': {'compound_code': '937P+7V San Jose, California, United States',\n   'global_code': '849W937P+7V'},\n  'rating': 4.2,\n  'reference': 'ChIJT4wM1I_Lj4AREy5mtIFQqL0',\n  'types': ['primary_school', 'school', 'point_of_interest', 'establishment'],\n  'user_ratings_total': 13,\n  'opening_hours': None,\n  'location': {'type': 'Point', 'coordinates': [-121.9128029, 37.3631457]}},\n {'_id': ObjectId('5dd4356bda35057e70483e77'),\n  'formatted_address': '1610 Bird Ave, San Jose, CA 95125, United States',\n  'geometry': {'location': {'lat': 37.3025623, 'lng': -121.8852001},\n   'viewport': {'northeast': {'lat': 37.3039404299, 'lng': -121.8836780201},\n    'southwest': {'lat': 37.3012407701, 'lng': -121.8863776799}}},\n  'icon': 'https://maps.gstatic.com/mapfiles/place_api/icons/school-71.png',\n  'id': '91053462c3cf5e4af4e3275dc181db7d9bc3249e',\n  'name': 'Galarza Elementary School',\n  'photos': [{'height': 2268,\n    'html_attributions': ['<a href=\"https://maps.google.com/maps/contrib/107460927841905565346/photos\">Kevin Vliet</a>'],\n    'photo_reference': 'CmRaAAAAy5HV5_IOCoKVWm7S2lkoCfIR0TSD3q9HFCXy5536WsFWd_T59FXomTftnpUHZuCJM-IU8ZK_DXyv-ZI_Fvn1hFI5ic_EqG_-TTqY6OakC6APPZubBDEx3zcPKyEryoX3EhCc-aA-hrR73qn7H2-60xyaGhSTnUBpDRktodfenw4KXr0b_1cFug',\n    'width': 4032}],\n  'place_id': 'ChIJpYpGBEIzjoARoU_6oG8CLnU',\n  'plus_code': {'compound_code': '8437+2W San Jose, California, United States',\n   'global_code': '849W8437+2W'},\n  'rating': 2.5,\n  'reference': 'ChIJpYpGBEIzjoARoU_6oG8CLnU',\n  'types': ['primary_school', 'school', 'point_of_interest', 'establishment'],\n  'user_ratings_total': 8,\n  'opening_hours': None,\n  'location': {'type': 'Point', 'coordinates': [-121.8852001, 37.3025623]}},\n {'_id': ObjectId('5dd4356bda35057e70483e50'),\n  'formatted_address': '1610 Bird Ave, San Jose, CA 95125, United States',\n  'geometry': {'location': {'lat': 37.302558, 'lng': -121.8851669},\n   'viewport': {'northeast': {'lat': 37.3039335799, 'lng': -121.8836602201},\n    'southwest': {'lat': 37.3012339201, 'lng': -121.8863598799}}},\n  'icon': 'https://maps.gstatic.com/mapfiles/place_api/icons/civic_building-71.png',\n  'id': '931705e1ae2aa2dd259d9c61b30099f2eeeb9ae8',\n  'name': 'Hammer Montessori at Galarza Elementary School',\n  'photos': [{'height': 3024,\n    'html_attributions': ['<a href=\"https://maps.google.com/maps/contrib/105228523248501417948/photos\">Susan H</a>'],\n    'photo_reference': 'CmRaAAAA5oJzMZ3eHo4bAPRpD9vAeh3YW4tXmvLRPbX4l2aKsv5Tw97xg_e0Xa0rRDAgEGlBSFl5EOpyMc79ZsnBDN2OLrY7H5a5ZuDt8kxa0DFrYoTWNPZUB-GOOdeqRDyPAH4rEhDFMWs5wUQsjIyIG3GN8dGGGhSF0Na_lPba-IfbtqkIx5nA22W-PA',\n    'width': 4032}],\n  'place_id': 'ChIJtf7ZU0IzjoARDhiF3z-2Vhk',\n  'plus_code': {'compound_code': '8437+2W San Jose, California, United States',\n   'global_code': '849W8437+2W'},\n  'rating': 4.7,\n  'reference': 'ChIJtf7ZU0IzjoARDhiF3z-2Vhk',\n  'types': ['primary_school', 'school', 'point_of_interest', 'establishment'],\n  'user_ratings_total': 14,\n  'opening_hours': None,\n  'location': {'type': 'Point', 'coordinates': [-121.8851669, 37.302558]}},\n {'_id': ObjectId('5dd4356bda35057e70483e7a'),\n  'formatted_address': '1721 E San Antonio St, San Jose, CA 95116, United States',\n  'geometry': {'location': {'lat': 37.3508264, 'lng': -121.8519468},\n   'viewport': {'northeast': {'lat': 37.3519548799, 'lng': -121.8504297701},\n    'southwest': {'lat': 37.3492552201, 'lng': -121.8531294299}}},\n  'icon': 'https://maps.gstatic.com/mapfiles/place_api/icons/school-71.png',\n  'id': 'f6ab5dbf48dedb07f44a96b147dc14bfd404b9ef',\n  'name': 'San Antonio Elementary School',\n  'photos': [{'height': 3968,\n    'html_attributions': ['<a href=\"https://maps.google.com/maps/contrib/110530732671928110124/photos\">Anna Ess</a>'],\n    'photo_reference': 'CmRaAAAAMEAwy5bVHX00dmVvGUdDT03oyDvJOl4389Yrl17RamsFxfYptaIw92Kl3eQoZiakq1-BC1ILtWVDxZeYrlZDFRc8Nv9aelqHW097KcDsm0HQCwbiW6nsxWFY5k_Mb9ySEhCB0J33OpJxF1oICKXFfqbcGhSsTzb67Xe08LfrdkmQqsBWu6V9JA',\n    'width': 2976}],\n  'place_id': 'ChIJh-FbnhjNj4ARjwmi9Pl_DnQ',\n  'plus_code': {'compound_code': '942X+86 San Jose, California, United States',\n   'global_code': '849W942X+86'},\n  'rating': 4.3,\n  'reference': 'ChIJh-FbnhjNj4ARjwmi9Pl_DnQ',\n  'types': ['primary_school', 'school', 'point_of_interest', 'establishment'],\n  'user_ratings_total': 16,\n  'opening_hours': None,\n  'location': {'type': 'Point', 'coordinates': [-121.8519468, 37.3508264]}},\n {'_id': ObjectId('5dd4356bda35057e70483e70'),\n  'formatted_address': '1970 Willow St, San Jose, CA 95125, United States',\n  'geometry': {'location': {'lat': 37.2994034, 'lng': -121.9223142},\n   'viewport': {'northeast': {'lat': 37.3008498299, 'lng': -121.9210676701},\n    'southwest': {'lat': 37.2981501701, 'lng': -121.9237673299}}},\n  'icon': 'https://maps.gstatic.com/mapfiles/place_api/icons/school-71.png',\n  'id': '8cd9ba67aecf53813df04e04a4ea297bbafecf1a',\n  'name': 'Blackford Elementary School',\n  'photos': [{'height': 3024,\n    'html_attributions': ['<a href=\"https://maps.google.com/maps/contrib/112809598656679076137/photos\">A Google User</a>'],\n    'photo_reference': 'CmRaAAAA2caVLiu2DWEh1AeITEjb8_sNeK2NcPeuOu7rTgJzMfPfZTb9AJu_w9QZXIadUUm5OmzLyJHbk465DTTHAIp7g8JHIKZYjDWdxjZ-M69TngjEmo8-cs0czeLM2qIwvHU8EhD_dtb0qqf4XefRAnnXvIjoGhSfxeNIB-RXCQGx3faBQM7_7uP0mA',\n    'width': 4032}],\n  'place_id': 'ChIJAdveUrg0joARKSik_x4CxBg',\n  'plus_code': {'compound_code': '73XH+Q3 San Jose, California, United States',\n   'global_code': '849W73XH+Q3'},\n  'rating': 4.5,\n  'reference': 'ChIJAdveUrg0joARKSik_x4CxBg',\n  'types': ['primary_school', 'school', 'point_of_interest', 'establishment'],\n  'user_ratings_total': 23,\n  'opening_hours': None,\n  'location': {'type': 'Point', 'coordinates': [-121.9223142, 37.2994034]}},\n {'_id': ObjectId('5dd4356bda35057e70483e73'),\n  'formatted_address': '420 Tully Rd, San Jose, CA 95111, United States',\n  'geometry': {'location': {'lat': 37.3047222, 'lng': -121.8519112},\n   'viewport': {'northeast': {'lat': 37.3061019799, 'lng': -121.8505939701},\n    'southwest': {'lat': 37.3034023201, 'lng': -121.8532936299}}},\n  'icon': 'https://maps.gstatic.com/mapfiles/place_api/icons/school-71.png',\n  'id': '1ed0a1148e40cbeb5e112b29f6a39cfb1adf95b1',\n  'name': 'Franklin Elementary School',\n  'photos': [{'height': 2560,\n    'html_attributions': ['<a href=\"https://maps.google.com/maps/contrib/108734233188221925525/photos\">Johnny Ramos</a>'],\n    'photo_reference': 'CmRaAAAAmV5kMJr2YxbJM7rp3WKUw73s6ESrI8_bLmv8X01JXa6ArmolHlzwAQ0HgxL5sL-6LycSILCqkkzzT9LizAScc_-YTx1OZywLYZLfidxquwc1wggvH3wVvBi8mJbPFNvSEhBLtlUysJq1POYPcgin268FGhR9m-wy02-IVvGmIixYik8v2DvlGA',\n    'width': 1920}],\n  'place_id': 'ChIJt9NPg-MyjoARCx4OGSWnO8w',\n  'plus_code': {'compound_code': '843X+V6 San Jose, California, United States',\n   'global_code': '849W843X+V6'},\n  'rating': 4.2,\n  'reference': 'ChIJt9NPg-MyjoARCx4OGSWnO8w',\n  'types': ['primary_school', 'school', 'point_of_interest', 'establishment'],\n  'user_ratings_total': 6,\n  'opening_hours': None,\n  'location': {'type': 'Point', 'coordinates': [-121.8519112, 37.3047222]}},\n {'_id': ObjectId('5dd4356bda35057e70483e72'),\n  'formatted_address': '1250 Taper Ln, San Jose, CA 95122, United States',\n  'geometry': {'location': {'lat': 37.3211059, 'lng': -121.8395862},\n   'viewport': {'northeast': {'lat': 37.3228383799, 'lng': -121.8384488701},\n    'southwest': {'lat': 37.3201387201, 'lng': -121.8411485299}}},\n  'icon': 'https://maps.gstatic.com/mapfiles/place_api/icons/school-71.png',\n  'id': '4baf6564ccefd1b47f1e6f1bff7bab9767337650',\n  'name': 'Jeanne R. Meadows Elementary School',\n  'photos': [{'height': 4032,\n    'html_attributions': ['<a href=\"https://maps.google.com/maps/contrib/117142835645159063605/photos\">adrianaisabella Rogel</a>'],\n    'photo_reference': 'CmRaAAAAm4zaZswrX8oc0IL9bWrr4vFUQHjRaxP1tOlz-vpjr5iZenD0hEGanmzrhYFtU3sofC8OvQUdjjAo62cokPekrwbY3JGNBuLaxaEeIKS1wquy8Kh6Xx8XbKvmXI1SbnEZEhAYNlV7IEgu4iPb704Fc4PxGhSh17qMh_69dT0UQhoVn2-q6J9FMA',\n    'width': 3024}],\n  'place_id': 'ChIJHTrCBMQyjoARn8tsUtu-w4w',\n  'plus_code': {'compound_code': '85C6+C5 San Jose, California, United States',\n   'global_code': '849W85C6+C5'},\n  'rating': 4.6,\n  'reference': 'ChIJHTrCBMQyjoARn8tsUtu-w4w',\n  'types': ['primary_school', 'school', 'point_of_interest', 'establishment'],\n  'user_ratings_total': 10,\n  'opening_hours': None,\n  'location': {'type': 'Point', 'coordinates': [-121.8395862, 37.3211059]}}]"
     },
     "execution_count": 107,
     "metadata": {},
     "output_type": "execute_result"
    }
   ],
   "source": [
    "x"
   ]
  },
  {
   "cell_type": "code",
   "execution_count": null,
   "metadata": {},
   "outputs": [],
   "source": []
  }
 ]
}