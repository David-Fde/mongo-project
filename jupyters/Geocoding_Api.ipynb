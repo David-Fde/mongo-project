{
 "cells": [
  {
   "cell_type": "code",
   "execution_count": 1,
   "metadata": {},
   "outputs": [],
   "source": [
    "import googlemaps\n",
    "from datetime import datetime\n",
    "import os\n",
    "from dotenv import load_dotenv\n",
    "load_dotenv()\n",
    "\n",
    "gmaps = googlemaps.Client(key=os.getenv(\"KEY\"))"
   ]
  },
  {
   "cell_type": "code",
   "execution_count": 2,
   "metadata": {},
   "outputs": [
    {
     "data": {
      "text/plain": [
       "{'address_components': [{'long_name': '120',\n",
       "   'short_name': '120',\n",
       "   'types': ['street_number']},\n",
       "  {'long_name': 'Southwest 8th Street',\n",
       "   'short_name': 'SW 8th St',\n",
       "   'types': ['route']},\n",
       "  {'long_name': 'Brickell',\n",
       "   'short_name': 'Brickell',\n",
       "   'types': ['neighborhood', 'political']},\n",
       "  {'long_name': 'Miami',\n",
       "   'short_name': 'Miami',\n",
       "   'types': ['locality', 'political']},\n",
       "  {'long_name': 'Miami-Dade County',\n",
       "   'short_name': 'Miami-Dade County',\n",
       "   'types': ['administrative_area_level_2', 'political']},\n",
       "  {'long_name': 'Florida',\n",
       "   'short_name': 'FL',\n",
       "   'types': ['administrative_area_level_1', 'political']},\n",
       "  {'long_name': 'United States',\n",
       "   'short_name': 'US',\n",
       "   'types': ['country', 'political']},\n",
       "  {'long_name': '33130', 'short_name': '33130', 'types': ['postal_code']}],\n",
       " 'formatted_address': '120 SW 8th St, Miami, FL 33130, USA',\n",
       " 'geometry': {'location': {'lat': 25.766033, 'lng': -80.196191},\n",
       "  'location_type': 'ROOFTOP',\n",
       "  'viewport': {'northeast': {'lat': 25.7673819802915,\n",
       "    'lng': -80.19484201970849},\n",
       "   'southwest': {'lat': 25.7646840197085, 'lng': -80.19753998029151}}},\n",
       " 'place_id': 'ChIJ5dQFqoW22YgRk3RbkdmlvaA',\n",
       " 'plus_code': {'compound_code': 'QR83+CG Miami, Florida, United States',\n",
       "  'global_code': '76QXQR83+CG'},\n",
       " 'types': ['establishment', 'point_of_interest', 'school']}"
      ]
     },
     "execution_count": 2,
     "metadata": {},
     "output_type": "execute_result"
    }
   ],
   "source": [
    "geocode_result = gmaps.geocode('Ironhack')\n",
    "geocode_result[0]"
   ]
  },
  {
   "cell_type": "code",
   "execution_count": null,
   "metadata": {},
   "outputs": [],
   "source": []
  },
  {
   "cell_type": "code",
   "execution_count": null,
   "metadata": {},
   "outputs": [],
   "source": []
  },
  {
   "cell_type": "code",
   "execution_count": null,
   "metadata": {},
   "outputs": [],
   "source": []
  },
  {
   "cell_type": "code",
   "execution_count": null,
   "metadata": {},
   "outputs": [],
   "source": []
  }
 ],
 "metadata": {
  "kernelspec": {
   "display_name": "Python 3",
   "language": "python",
   "name": "python3"
  },
  "language_info": {
   "codemirror_mode": {
    "name": "ipython",
    "version": 3
   },
   "file_extension": ".py",
   "mimetype": "text/x-python",
   "name": "python",
   "nbconvert_exporter": "python",
   "pygments_lexer": "ipython3",
   "version": "3.6.8"
  }
 },
 "nbformat": 4,
 "nbformat_minor": 2
}
