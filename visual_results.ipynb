{
 "nbformat": 4,
 "nbformat_minor": 2,
 "metadata": {
  "language_info": {
   "name": "python",
   "codemirror_mode": {
    "name": "ipython",
    "version": 3
   },
   "version": "3.6.8"
  },
  "orig_nbformat": 2,
  "file_extension": ".py",
  "mimetype": "text/x-python",
  "name": "python",
  "npconvert_exporter": "python",
  "pygments_lexer": "ipython3",
  "version": 3
 },
 "cells": [
  {
   "source": [
    "import pandas as pd\n",
    "import src.download_from_api as fnc"
   ],
   "cell_type": "code",
   "outputs": [],
   "metadata": {},
   "execution_count": 1
  },
  {
   "source": [
    "data = pd.read_csv(\"./output/final_ranking.csv\")"
   ],
   "cell_type": "code",
   "outputs": [],
   "metadata": {},
   "execution_count": 2
  },
  {
   "source": [
    "data"
   ],
   "cell_type": "code",
   "outputs": [
    {
     "output_type": "execute_result",
     "data": {
      "text/plain": "              name  airport_sanjose_ca  elementary_school_sanjose_ca  \\\n0          Savioke                   1                             5   \n1          Whatfix                   1                             4   \n2  CNEX Labs, Inc.                   1                             1   \n3          Petzila                   1                             1   \n4      uSens, Inc.                   1                             1   \n5   Trustlook Inc.                   1                             1   \n6         Signifyd                   1                             0   \n7    IntelliVision                   0                             0   \n8    Stratio, Inc.                   0                             0   \n\n   kindergarten_sanjose_ca  night_clubs_sanjose_ca  starbucks_sanjose  \\\n0                        4                      17                  1   \n1                        3                      13                  1   \n2                        1                       2                  1   \n3                        2                       2                  1   \n4                        1                       0                  2   \n5                        1                       0                  0   \n6                        0                       0                  1   \n7                        1                       0                  0   \n8                        0                       0                  0   \n\n   train_stations_sanjose_ca  vegan_restaurants_sanjose_ca  final_ranking  \n0                          2                             6           18.1  \n1                          3                             6           14.9  \n2                          0                             4            4.3  \n3                          0                             3            4.2  \n4                          0                             1            2.2  \n5                          0                             0            0.8  \n6                          0                             0            0.7  \n7                          0                             0            0.3  \n8                          0                             0            0.0  ",
      "text/html": "<div>\n<style scoped>\n    .dataframe tbody tr th:only-of-type {\n        vertical-align: middle;\n    }\n\n    .dataframe tbody tr th {\n        vertical-align: top;\n    }\n\n    .dataframe thead th {\n        text-align: right;\n    }\n</style>\n<table border=\"1\" class=\"dataframe\">\n  <thead>\n    <tr style=\"text-align: right;\">\n      <th></th>\n      <th>name</th>\n      <th>airport_sanjose_ca</th>\n      <th>elementary_school_sanjose_ca</th>\n      <th>kindergarten_sanjose_ca</th>\n      <th>night_clubs_sanjose_ca</th>\n      <th>starbucks_sanjose</th>\n      <th>train_stations_sanjose_ca</th>\n      <th>vegan_restaurants_sanjose_ca</th>\n      <th>final_ranking</th>\n    </tr>\n  </thead>\n  <tbody>\n    <tr>\n      <th>0</th>\n      <td>Savioke</td>\n      <td>1</td>\n      <td>5</td>\n      <td>4</td>\n      <td>17</td>\n      <td>1</td>\n      <td>2</td>\n      <td>6</td>\n      <td>18.1</td>\n    </tr>\n    <tr>\n      <th>1</th>\n      <td>Whatfix</td>\n      <td>1</td>\n      <td>4</td>\n      <td>3</td>\n      <td>13</td>\n      <td>1</td>\n      <td>3</td>\n      <td>6</td>\n      <td>14.9</td>\n    </tr>\n    <tr>\n      <th>2</th>\n      <td>CNEX Labs, Inc.</td>\n      <td>1</td>\n      <td>1</td>\n      <td>1</td>\n      <td>2</td>\n      <td>1</td>\n      <td>0</td>\n      <td>4</td>\n      <td>4.3</td>\n    </tr>\n    <tr>\n      <th>3</th>\n      <td>Petzila</td>\n      <td>1</td>\n      <td>1</td>\n      <td>2</td>\n      <td>2</td>\n      <td>1</td>\n      <td>0</td>\n      <td>3</td>\n      <td>4.2</td>\n    </tr>\n    <tr>\n      <th>4</th>\n      <td>uSens, Inc.</td>\n      <td>1</td>\n      <td>1</td>\n      <td>1</td>\n      <td>0</td>\n      <td>2</td>\n      <td>0</td>\n      <td>1</td>\n      <td>2.2</td>\n    </tr>\n    <tr>\n      <th>5</th>\n      <td>Trustlook Inc.</td>\n      <td>1</td>\n      <td>1</td>\n      <td>1</td>\n      <td>0</td>\n      <td>0</td>\n      <td>0</td>\n      <td>0</td>\n      <td>0.8</td>\n    </tr>\n    <tr>\n      <th>6</th>\n      <td>Signifyd</td>\n      <td>1</td>\n      <td>0</td>\n      <td>0</td>\n      <td>0</td>\n      <td>1</td>\n      <td>0</td>\n      <td>0</td>\n      <td>0.7</td>\n    </tr>\n    <tr>\n      <th>7</th>\n      <td>IntelliVision</td>\n      <td>0</td>\n      <td>0</td>\n      <td>1</td>\n      <td>0</td>\n      <td>0</td>\n      <td>0</td>\n      <td>0</td>\n      <td>0.3</td>\n    </tr>\n    <tr>\n      <th>8</th>\n      <td>Stratio, Inc.</td>\n      <td>0</td>\n      <td>0</td>\n      <td>0</td>\n      <td>0</td>\n      <td>0</td>\n      <td>0</td>\n      <td>0</td>\n      <td>0.0</td>\n    </tr>\n  </tbody>\n</table>\n</div>"
     },
     "metadata": {},
     "execution_count": 3
    }
   ],
   "metadata": {},
   "execution_count": 3
  },
  {
   "source": [
    "places = pd.DataFrame(fnc.search_places_by_input())\n",
    "places.to_json(\"./output/results_api.json\", orient=\"records\")"
   ],
   "cell_type": "code",
   "outputs": [
    {
     "output_type": "error",
     "ename": "StdinNotImplementedError",
     "evalue": "raw_input was called, but this frontend does not support input requests.",
     "traceback": [
      "\u001b[0;31m---------------------------------------------------------------------------\u001b[0m",
      "\u001b[0;31mStdinNotImplementedError\u001b[0m                  Traceback (most recent call last)",
      "\u001b[0;32m<ipython-input-5-80fd72667eb8>\u001b[0m in \u001b[0;36m<module>\u001b[0;34m\u001b[0m\n\u001b[0;32m----> 1\u001b[0;31m \u001b[0mplaces\u001b[0m \u001b[0;34m=\u001b[0m \u001b[0mpd\u001b[0m\u001b[0;34m.\u001b[0m\u001b[0mDataFrame\u001b[0m\u001b[0;34m(\u001b[0m\u001b[0mfnc\u001b[0m\u001b[0;34m.\u001b[0m\u001b[0msearch_places_by_input\u001b[0m\u001b[0;34m(\u001b[0m\u001b[0;34m)\u001b[0m\u001b[0;34m)\u001b[0m\u001b[0;34m\u001b[0m\u001b[0;34m\u001b[0m\u001b[0m\n\u001b[0m\u001b[1;32m      2\u001b[0m \u001b[0mplaces\u001b[0m\u001b[0;34m.\u001b[0m\u001b[0mto_json\u001b[0m\u001b[0;34m(\u001b[0m\u001b[0;34m\"./output/results_api.json\"\u001b[0m\u001b[0;34m,\u001b[0m \u001b[0morient\u001b[0m\u001b[0;34m=\u001b[0m\u001b[0;34m\"records\"\u001b[0m\u001b[0;34m)\u001b[0m\u001b[0;34m\u001b[0m\u001b[0;34m\u001b[0m\u001b[0m\n",
      "\u001b[0;32m~/Desktop/Ironhack/mongo-project/mongo-project/src/download_from_api.py\u001b[0m in \u001b[0;36msearch_places_by_input\u001b[0;34m(query)\u001b[0m\n\u001b[1;32m     12\u001b[0m     \u001b[0mplaces\u001b[0m \u001b[0;34m=\u001b[0m \u001b[0;34m[\u001b[0m\u001b[0;34m]\u001b[0m\u001b[0;34m\u001b[0m\u001b[0;34m\u001b[0m\u001b[0m\n\u001b[1;32m     13\u001b[0m     params = {\n\u001b[0;32m---> 14\u001b[0;31m         \u001b[0;34m'query'\u001b[0m\u001b[0;34m:\u001b[0m \u001b[0minput\u001b[0m\u001b[0;34m(\u001b[0m\u001b[0;34m\"Query: \"\u001b[0m\u001b[0;34m)\u001b[0m\u001b[0;34m,\u001b[0m\u001b[0;34m\u001b[0m\u001b[0;34m\u001b[0m\u001b[0m\n\u001b[0m\u001b[1;32m     15\u001b[0m         \u001b[0;34m'key'\u001b[0m\u001b[0;34m:\u001b[0m \u001b[0mapiKey\u001b[0m\u001b[0;34m\u001b[0m\u001b[0;34m\u001b[0m\u001b[0m\n\u001b[1;32m     16\u001b[0m     }\n",
      "\u001b[0;32m~/.local/lib/python3.6/site-packages/ipykernel/kernelbase.py\u001b[0m in \u001b[0;36mraw_input\u001b[0;34m(self, prompt)\u001b[0m\n\u001b[1;32m    852\u001b[0m         \u001b[0;32mif\u001b[0m \u001b[0;32mnot\u001b[0m \u001b[0mself\u001b[0m\u001b[0;34m.\u001b[0m\u001b[0m_allow_stdin\u001b[0m\u001b[0;34m:\u001b[0m\u001b[0;34m\u001b[0m\u001b[0;34m\u001b[0m\u001b[0m\n\u001b[1;32m    853\u001b[0m             raise StdinNotImplementedError(\n\u001b[0;32m--> 854\u001b[0;31m                 \u001b[0;34m\"raw_input was called, but this frontend does not support input requests.\"\u001b[0m\u001b[0;34m\u001b[0m\u001b[0;34m\u001b[0m\u001b[0m\n\u001b[0m\u001b[1;32m    855\u001b[0m             )\n\u001b[1;32m    856\u001b[0m         return self._input_request(str(prompt),\n",
      "\u001b[0;31mStdinNotImplementedError\u001b[0m: raw_input was called, but this frontend does not support input requests."
     ]
    }
   ],
   "metadata": {},
   "execution_count": 5
  },
  {
   "cell_type": "code",
   "execution_count": null,
   "metadata": {},
   "outputs": [],
   "source": []
  },
  {
   "cell_type": "code",
   "execution_count": null,
   "metadata": {},
   "outputs": [],
   "source": []
  },
  {
   "source": [
    "names = []\n",
    "for name in data['name']:\n",
    "    names.append(name)\n",
    "names"
   ],
   "cell_type": "code",
   "outputs": [
    {
     "output_type": "execute_result",
     "data": {
      "text/plain": "['Savioke',\n 'Whatfix',\n 'CNEX Labs, Inc.',\n 'Petzila',\n 'uSens, Inc.',\n 'Trustlook Inc.',\n 'Signifyd',\n 'IntelliVision',\n 'Stratio, Inc.']"
     },
     "metadata": {},
     "execution_count": 4
    }
   ],
   "metadata": {},
   "execution_count": 4
  }
 ]
}