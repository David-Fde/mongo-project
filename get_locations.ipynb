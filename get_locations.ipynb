{
 "nbformat": 4,
 "nbformat_minor": 2,
 "metadata": {
  "language_info": {
   "name": "python",
   "codemirror_mode": {
    "name": "ipython",
    "version": 3
   },
   "version": "3.6.8"
  },
  "orig_nbformat": 2,
  "file_extension": ".py",
  "mimetype": "text/x-python",
  "name": "python",
  "npconvert_exporter": "python",
  "pygments_lexer": "ipython3",
  "version": 3
 },
 "cells": [
  {
   "cell_type": "code",
   "execution_count": 1,
   "metadata": {},
   "outputs": [],
   "source": [
    "from pymongo import MongoClient"
   ]
  },
  {
   "cell_type": "code",
   "execution_count": 2,
   "metadata": {},
   "outputs": [],
   "source": [
    "def connectCollection(database, collection):\n",
    "    client = MongoClient()\n",
    "    db = client[database]\n",
    "    coll = db[collection]\n",
    "    return db, coll"
   ]
  },
  {
   "cell_type": "code",
   "execution_count": 3,
   "metadata": {},
   "outputs": [],
   "source": [
    "db, coll = connectCollection('companies','airport_sanjose_ca')"
   ]
  },
  {
   "cell_type": "code",
   "execution_count": 4,
   "metadata": {},
   "outputs": [],
   "source": [
    "places = list(coll.find({\"geometry.location.lat\":{\"$ne\":None},\"geometry.location.lng\":{\"$ne\":None}}))"
   ]
  },
  {
   "cell_type": "code",
   "execution_count": 18,
   "metadata": {},
   "outputs": [
    {
     "data": {
      "text/plain": "{'_id': ObjectId('5dd432b15e2cb0d03755aa62'),\n 'formatted_address': '1701 Airport Blvd, San Jose, CA 95110, United States',\n 'geometry': {'location': {'lat': 37.3639472, 'lng': -121.9289375},\n  'viewport': {'northeast': {'lat': 37.37540915, 'lng': -121.9136433},\n   'southwest': {'lat': 37.35761735, 'lng': -121.9362261}}},\n 'icon': 'https://maps.gstatic.com/mapfiles/place_api/icons/airport-71.png',\n 'id': '2f215636bac933e493adba23bfef4d54fd6d2fc5',\n 'name': 'Norman Y. Mineta San Jose International Airport',\n 'photos': [{'height': 3456,\n   'html_attributions': ['<a href=\"https://maps.google.com/maps/contrib/114995550201401114735/photos\">Vikas Kumar</a>'],\n   'photo_reference': 'CmRaAAAA9I2OygCioyVp9--a2zsuld6FsjZEm_a-_6hM88QWhyrNG4CbxjddJo6YJoMMNTFgYiwiU16DLcBEWDmIqKDYhKMzE6PaPGTwspEAxXoW_L3mytMk2-ga3YpquIIZFNoNEhAp28WTQv6hzA-nuqczVYh8GhSdHb8F5sYEZQldndjeF0WQSGl5OQ',\n   'width': 4608}],\n 'place_id': 'ChIJm8Wz-sPLj4ARPn72bT9E-rw',\n 'plus_code': {'compound_code': '937C+HC San Jose, California, United States',\n  'global_code': '849W937C+HC'},\n 'rating': 4.1,\n 'reference': 'ChIJm8Wz-sPLj4ARPn72bT9E-rw',\n 'types': ['airport', 'point_of_interest', 'establishment'],\n 'user_ratings_total': 1578}"
     },
     "execution_count": 18,
     "metadata": {},
     "output_type": "execute_result"
    }
   ],
   "source": [
    "places[0]"
   ]
  },
  {
   "cell_type": "code",
   "execution_count": 25,
   "metadata": {},
   "outputs": [
    {
     "name": "stdout",
     "output_type": "stream",
     "text": "37.3639472 -121.9289375\n"
    }
   ],
   "source": [
    "print(places[0]['geometry']['location']['lat'],places[0]['geometry']['location']['lng'])"
   ]
  },
  {
   "cell_type": "code",
   "execution_count": 44,
   "metadata": {},
   "outputs": [],
   "source": [
    "location=[]       \n",
    "longitude = places[0]['geometry']['location']['lng']\n",
    "latitude = places[0]['geometry']['location']['lat']\n",
    "loc = {\n",
    "    'type':'Point',\n",
    "    'coordinates':[longitude,latitude]\n",
    "}\n",
    "location.append(loc)"
   ]
  },
  {
   "cell_type": "code",
   "execution_count": 45,
   "metadata": {},
   "outputs": [
    {
     "name": "stdout",
     "output_type": "stream",
     "text": "[{'type': 'Point', 'coordinates': [-121.9289375, 37.3639472]}]\n"
    }
   ],
   "source": [
    "print(location)"
   ]
  },
  {
   "cell_type": "code",
   "execution_count": 47,
   "metadata": {},
   "outputs": [
    {
     "data": {
      "text/plain": "<pymongo.results.UpdateResult at 0x7ff2aa55d848>"
     },
     "execution_count": 47,
     "metadata": {},
     "output_type": "execute_result"
    }
   ],
   "source": [
    "value = {\"$set\": {'location':location[0]}}\n",
    "coll.update_one(place,value)"
   ]
  },
  {
   "cell_type": "code",
   "execution_count": null,
   "metadata": {},
   "outputs": [],
   "source": []
  }
 ]
}