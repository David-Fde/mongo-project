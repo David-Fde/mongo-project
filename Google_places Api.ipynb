{
 "cells": [
  {
   "cell_type": "code",
   "execution_count": 1,
   "metadata": {},
   "outputs": [],
   "source": [
    "import googlemaps\n",
    "from datetime import datetime\n",
    "import os\n",
    "from dotenv import load_dotenv\n",
    "load_dotenv()\n",
    "import requests\n",
    "\n",
    "apikey = googlemaps.Client(key=os.getenv(\"KEY\"))"
   ]
  },
  {
   "cell_type": "code",
   "execution_count": 11,
   "metadata": {},
   "outputs": [
    {
     "name": "stdout",
     "output_type": "stream",
     "text": [
      "Search query: Starbucks in Madrid\n",
      "{'lat': 40.3911342, 'lng': -3.7014463}\n",
      "{'lat': 40.40882819999999, 'lng': -3.6930105}\n",
      "{'lat': 40.3944263, 'lng': -3.676066}\n",
      "{'lat': 40.415732, 'lng': -3.7085757}\n",
      "{'lat': 40.4293227, 'lng': -3.7151176}\n",
      "{'lat': 40.4231076, 'lng': -3.7108885}\n",
      "{'lat': 40.4181348, 'lng': -3.7099469}\n",
      "{'lat': 40.4152043, 'lng': -3.6950046}\n",
      "{'lat': 40.4180976, 'lng': -3.6997052}\n",
      "{'lat': 40.4260832, 'lng': -3.6922124}\n",
      "{'lat': 40.4249447, 'lng': -3.6839483}\n",
      "{'lat': 40.4206062, 'lng': -3.6989758}\n",
      "{'lat': 40.4384538, 'lng': -3.6902782}\n",
      "{'lat': 40.4280696, 'lng': -3.7021126}\n",
      "{'lat': 40.4326432, 'lng': -3.6830978}\n",
      "{'lat': 40.433651, 'lng': -3.6862933}\n",
      "{'lat': 40.4173115, 'lng': -3.7061836}\n",
      "{'lat': 40.4222361, 'lng': -3.7205401}\n",
      "{'lat': 40.4202546, 'lng': -3.7026608}\n",
      "{'lat': 40.45149139999999, 'lng': -3.6943452}\n"
     ]
    }
   ],
   "source": [
    "# Python program to get a set of  \n",
    "# places according to your search  \n",
    "# query using Google Places API \n",
    "  \n",
    "# importing required modules \n",
    "import requests, json \n",
    "  \n",
    "# enter your api key here \n",
    "api_key = os.getenv(\"KEY\")\n",
    "  \n",
    "# url variable store url \n",
    "url = \"https://maps.googleapis.com/maps/api/place/textsearch/json?\"\n",
    "  \n",
    "# The text string on which to search \n",
    "query = input('Search query: ') \n",
    "  \n",
    "# get method of requests module \n",
    "# return response object \n",
    "r = requests.get(url + 'query=' + query +\n",
    "                        '&key=' + api_key) \n",
    "  \n",
    "# json method of response object convert \n",
    "#  json format data into python format data \n",
    "x = r.json() \n",
    "\n",
    "# now x contains list of nested dictionaries \n",
    "# we know dictionary contain key value pair \n",
    "# store the value of result key in variable y \n",
    "y = x['results'] \n",
    "  \n",
    "# keep looping upto lenght of y \n",
    "for i in range(len(y)): \n",
    "      \n",
    "    # Print value corresponding to the \n",
    "    # 'name' key at the ith index of y \n",
    "    print(y[i]['geometry']['location']) \n"
   ]
  },
  {
   "cell_type": "code",
   "execution_count": 6,
   "metadata": {},
   "outputs": [
    {
     "name": "stdout",
     "output_type": "stream",
     "text": [
      "{'lat': 40.40882819999999, 'lng': -3.6930105}\n"
     ]
    }
   ],
   "source": [
    "print(y[0]['geometry']['location'])"
   ]
  },
  {
   "cell_type": "code",
   "execution_count": null,
   "metadata": {},
   "outputs": [],
   "source": []
  },
  {
   "cell_type": "code",
   "execution_count": null,
   "metadata": {},
   "outputs": [],
   "source": [
    "#  Starbucks in Madrid"
   ]
  },
  {
   "cell_type": "code",
   "execution_count": null,
   "metadata": {},
   "outputs": [],
   "source": [
    "for i in range(len(x)):\n",
    "    print(x['results'][i]['formatted_address'])"
   ]
  },
  {
   "cell_type": "code",
   "execution_count": null,
   "metadata": {},
   "outputs": [],
   "source": []
  },
  {
   "cell_type": "code",
   "execution_count": null,
   "metadata": {},
   "outputs": [],
   "source": []
  },
  {
   "cell_type": "code",
   "execution_count": null,
   "metadata": {},
   "outputs": [],
   "source": []
  },
  {
   "cell_type": "code",
   "execution_count": null,
   "metadata": {},
   "outputs": [],
   "source": []
  },
  {
   "cell_type": "code",
   "execution_count": null,
   "metadata": {},
   "outputs": [],
   "source": []
  },
  {
   "cell_type": "code",
   "execution_count": null,
   "metadata": {},
   "outputs": [],
   "source": []
  },
  {
   "cell_type": "code",
   "execution_count": null,
   "metadata": {},
   "outputs": [],
   "source": []
  },
  {
   "cell_type": "code",
   "execution_count": null,
   "metadata": {},
   "outputs": [],
   "source": []
  },
  {
   "cell_type": "code",
   "execution_count": null,
   "metadata": {},
   "outputs": [],
   "source": []
  },
  {
   "cell_type": "code",
   "execution_count": null,
   "metadata": {},
   "outputs": [],
   "source": []
  },
  {
   "cell_type": "code",
   "execution_count": null,
   "metadata": {},
   "outputs": [],
   "source": [
    "geocode_result = gmaps.places('37.295005,-121.930035')\n",
    "geocode_result['results'][0]['geometry']['location']"
   ]
  },
  {
   "cell_type": "code",
   "execution_count": null,
   "metadata": {},
   "outputs": [],
   "source": [
    "endpoint_url = \"https://maps.googleapis.com/maps/api/place/nearbysearch/json\"\n",
    "location = gmaps.places(\"Starbucks,Madrid\")\n",
    "params = {\n",
    "        'location': location,\n",
    "        'key': apiKey\n",
    "    }\n",
    "\n",
    "res = requests.get(endpoint_url, params)\n",
    "starbucks_list =  json.loads(res.content)\n",
    "\n",
    "len(starbucks_list)"
   ]
  },
  {
   "cell_type": "code",
   "execution_count": null,
   "metadata": {},
   "outputs": [],
   "source": [
    "starbucks_list"
   ]
  },
  {
   "cell_type": "code",
   "execution_count": null,
   "metadata": {},
   "outputs": [],
   "source": [
    "starbucks_list['results'][1]['geometry']['location']"
   ]
  },
  {
   "cell_type": "code",
   "execution_count": null,
   "metadata": {},
   "outputs": [],
   "source": [
    "for starbuck in range(len(starbucks_list)):\n",
    "    print(starbucks_list['results'][starbuck]['geometry']['location'])"
   ]
  },
  {
   "cell_type": "code",
   "execution_count": null,
   "metadata": {},
   "outputs": [],
   "source": []
  },
  {
   "cell_type": "code",
   "execution_count": null,
   "metadata": {},
   "outputs": [],
   "source": []
  },
  {
   "cell_type": "code",
   "execution_count": null,
   "metadata": {},
   "outputs": [],
   "source": [
    "starbucks_list['results'][0]['geometry']['location']"
   ]
  },
  {
   "cell_type": "code",
   "execution_count": null,
   "metadata": {},
   "outputs": [],
   "source": [
    "starbucks_list['results'][0]['name']"
   ]
  },
  {
   "cell_type": "code",
   "execution_count": null,
   "metadata": {},
   "outputs": [],
   "source": [
    "starbucks_coords = {}\n",
    "for starbuck in range(len(starbucks_list['results'])):\n",
    "    starbucks_coords = {\n",
    "        'name' : starbucks_list['results'][starbuck]['name'],\n",
    "        'location' : starbucks_list['results'][starbuck]['geometry']['location']\n",
    "    }"
   ]
  },
  {
   "cell_type": "code",
   "execution_count": null,
   "metadata": {},
   "outputs": [],
   "source": [
    "stabucks_coords"
   ]
  },
  {
   "cell_type": "code",
   "execution_count": null,
   "metadata": {},
   "outputs": [],
   "source": []
  }
 ],
 "metadata": {
  "kernelspec": {
   "display_name": "Python 3",
   "language": "python",
   "name": "python3"
  },
  "language_info": {
   "codemirror_mode": {
    "name": "ipython",
    "version": 3
   },
   "file_extension": ".py",
   "mimetype": "text/x-python",
   "name": "python",
   "nbconvert_exporter": "python",
   "pygments_lexer": "ipython3",
   "version": "3.6.8"
  }
 },
 "nbformat": 4,
 "nbformat_minor": 2
}
